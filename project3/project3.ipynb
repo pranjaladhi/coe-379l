{
 "cells": [
  {
   "cell_type": "markdown",
   "metadata": {},
   "source": [
    "Project Description: You are given a dataset which contains satellite images from Texas after Hurricane Harvey. There are damaged and non-damaged building images organized into respective folders. You can find the project 3 dataset on the course GitHub repository here.\n",
    "\n",
    "Your goal is to build multiple neural networks based on different architectures to classify images as containing buildings that are either damaged or not damaged. You will evaluate each of the networks you develop and produce and select the “best” network to “deploy”. Note that this is a binary classification problem, where the goal it to classify whether the structure in the image has damage or does not have damage.\n",
    "\n",
    "Part 1: (3 points) Data preprocessing and visualization\n",
    "\n",
    "You will need to perform data analysis and pre-processing to prepare the images for training. At a minimum, you should:\n",
    "\n",
    "Write code to load the data into Python data structures\n",
    "\n",
    "Investigate the datasets to determine basic attributes of the images\n",
    "\n",
    "Ensure data is split for training, validation and testing and perform any additional preprocessing (e.g., rescaling, normalization, etc.) so that it can be used for training/evaluation of the neural networks you will build in Part 2.\n",
    "\n",
    "Part 2: (10 points) Model design, training and evaluation\n",
    "\n",
    "You will explore different model architectures that we have seen in class, including:\n",
    "\n",
    "A dense (i.e., fully connected) ANN\n",
    "\n",
    "The Lenet-5 CNN architecture\n",
    "\n",
    "Alternate-Lenet-5 CNN architecture, described in paper/except (Table 1, Page 12 of the research paper https://arxiv.org/pdf/1807.01688.pdf, but note that the dataset is not the same as that analyzed in the paper.)\n",
    "\n",
    "You are free to experiment with different variants on all three architectures above. For example, for the fully connected ANN, feel free to experiment with different numbers of layers and perceptrons. Train and evaluate each model you build,and select the “best” performing model.\n",
    "\n",
    "Note that the input and output dimensions are fixed, as the inputs (images) and the outputs (labels) have been given. These have important implications for your architecture. Make sure you understand the constraints these impose before beginning to design and implement your networks. Failure to implement these correctly will lead to incorrect architectures and significant penalty on the project grade.\n",
    "\n",
    "Note: You can also try to run the VGG-16 architecture from class, however, you may run into long runtimes and/or memory limits on the VM. It is also possible, depending on the architecture that you choose, that you could also run into memory constraints with any of the other architectures. If you are hitting memory issues, you can try to decrease the batch_size parameter in the .fit() function, as described in the notes.\n",
    "\n",
    "Part 3: (7 points) Model deployment\n",
    "\n",
    "For the best model built in part 2, persist the trained model to disk so that it can be reconstituted easily. Develop a simple inference server to serve your trained model over HTTP. There should be at least two endpoints:\n",
    "\n",
    "A model summary endpoint providing metadata about the model\n",
    "\n",
    "An inference endpoint that can perform classification on an image. Note: this endpoint will need to accept a binary message payload containing the image to classify and return a JSON response containing the results of the inference.\n",
    "\n",
    "Package your model inference server in a Docker container image and push the image to the Docker Hub. Provide instructions for starting and stopping your inference server using the docker-compose file. Provide examples of how to make requests to your inference server.\n",
    "\n",
    "\n",
    "Part 4: (7 points) Write a 3 page report summarizing your work. Be sure to include something about the following:\n",
    "\n",
    "Data preparation: what did you do? (1 pt)\n",
    "\n",
    "Model design: which architectures did you explore and what decisions did you make for each? (2 pts)\n",
    "\n",
    "Model evaluation: what model performed the best? How confident are you in your model? (1 pt)\n",
    "\n",
    "Model deployment and inference: a brief description of how to deploy/serve your model and how to use the model for inference (this material should also be in the README with examples) (1 pt)\n",
    "\n",
    "Submission guidelines: Part 1 and Part 2 should be submitted as one notebook file. Part 3 should include a Dockerfile, a docker image (prebuilt and pushed to Docker Hub) and a docker-compose.yml file for starting the container. It should also include a README with instructions for using the container image, docker-compose file and example requests. Part 4 should be submitted as a PDF file.\n",
    "\n",
    "In-class Project Checkpoint Thursday, April 4th. We will devote the first portion of Thursday’s class to checking in on the project and answering questions."
   ]
  },
  {
   "cell_type": "markdown",
   "metadata": {},
   "source": [
    "# Data Preparation"
   ]
  },
  {
   "cell_type": "code",
   "execution_count": 38,
   "metadata": {},
   "outputs": [
    {
     "name": "stdout",
     "output_type": "stream",
     "text": [
      "damage file entry:  -95.613297_29.758008.jpeg\n",
      "No damage file entry:  -96.93535899999999_28.727813.jpeg\n",
      "\n",
      "Number of damage files:  14170\n",
      "Number of no_damage files:  7152\n",
      "Total number of files:  21322\n"
     ]
    }
   ],
   "source": [
    "import numpy as np\n",
    "import os\n",
    "\n",
    "base_data_path = \"./coe379L-sp24/datasets/unit03/Project3/data_all_modified/\"\n",
    "damage_file_set = os.listdir(base_data_path + \"damage/\")\n",
    "no_damage_file_set = os.listdir(base_data_path + \"no_damage/\")\n",
    "print(\"damage file entry: \", damage_file_set[0])\n",
    "print(\"No damage file entry: \", no_damage_file_set[0])\n",
    "print()\n",
    "print(\"Number of damage files: \", len(damage_file_set))\n",
    "print(\"Number of no_damage files: \", len(no_damage_file_set))\n",
    "print(\"Total number of files: \", len(damage_file_set) + len(no_damage_file_set))"
   ]
  },
  {
   "cell_type": "markdown",
   "metadata": {},
   "source": [
    "First we seek preliminary information about our dataset such as the size of each file, the number of files in each class, and more."
   ]
  },
  {
   "cell_type": "code",
   "execution_count": 39,
   "metadata": {},
   "outputs": [
    {
     "name": "stdout",
     "output_type": "stream",
     "text": [
      "damage file entry 1: , './coe379L-sp24/datasets/unit03/Project3/data_all_modified/damage/-95.613297_29.758008.jpeg'\n",
      "No damage file entry 1: , './coe379L-sp24/datasets/unit03/Project3/data_all_modified/no_damage/-96.93535899999999_28.727813.jpeg'\n",
      "\n",
      "==================== File Size Statistics ====================\n",
      "Average damage file size : 2.5123kB\n",
      "Average no_damage file size: 3.0134kB\n",
      "Range of damage file sizes : 0.9430kB - 5.6470kB\n",
      "Range of no_damage file sizes: 1.0200kB - 5.1340kB\n",
      "Standard deviation of damage file sizes : 0.4026kB\n",
      "\n",
      "==================== File Dimension Statistics ====================\n",
      "Average damage file dimensions : [128. 128.   3.]\n",
      "Average no_damage file dimensions: [128. 128.   3.]\n",
      "Range of damage file dimensions : [128 128   3] - [128 128   3]\n",
      "Range of no_damage file dimensions: [128 128   3] - [128 128   3]\n"
     ]
    }
   ],
   "source": [
    "# updating file paths for each image belonging to both classes\n",
    "damage_file_set = [base_data_path + \"damage/\" + file for file in os.listdir(base_data_path + \"damage/\")]\n",
    "no_damage_file_set = [base_data_path + \"no_damage/\" + file for file in os.listdir(base_data_path + \"no_damage/\")]\n",
    "print(f\"damage file entry 1: , '{damage_file_set[0]}'\")\n",
    "print(f\"No damage file entry 1: , '{no_damage_file_set[0]}'\")"
   ]
  },
  {
   "cell_type": "code",
   "execution_count": 40,
   "metadata": {},
   "outputs": [
    {
     "name": "stdout",
     "output_type": "stream",
     "text": [
      "==================== File Size Statistics ====================\n",
      "Average damage file size : 2.5123kB\n",
      "Average no_damage file size: 3.0134kB\n",
      "Range of damage file sizes : 0.9430kB - 5.6470kB\n",
      "Range of no_damage file sizes: 1.0200kB - 5.1340kB\n",
      "Standard deviation of damage file sizes : 0.4026kB\n",
      "Standard deviation of no_damage file sizes: 0.4114kB\n"
     ]
    }
   ],
   "source": [
    "# calculating file size statistics\n",
    "print(f\"{'='*20} File Size Statistics {'='*20}\")\n",
    "damage_file_sizes = np.array([os.path.getsize(file) for file in damage_file_set])\n",
    "no_damage_file_sizes = np.array([os.path.getsize(file) for file in no_damage_file_set])\n",
    "print(f\"Average damage file size : {np.mean(damage_file_sizes)/1000:0.4f}kB\")\n",
    "print(f\"Average no_damage file size: {np.mean(no_damage_file_sizes)/1000:0.4f}kB\")\n",
    "print(f\"Range of damage file sizes : {np.min(damage_file_sizes)/1000:0.4f}kB - {np.max(damage_file_sizes)/1000:0.4f}kB\")\n",
    "print(f\"Range of no_damage file sizes: {np.min(no_damage_file_sizes)/1000:0.4f}kB - {np.max(no_damage_file_sizes)/1000:0.4f}kB\")\n",
    "print(f\"Standard deviation of damage file sizes : {np.std(damage_file_sizes)/1000:0.4f}kB\")\n",
    "print(f\"Standard deviation of no_damage file sizes: {np.std(no_damage_file_sizes)/1000:0.4f}kB\")"
   ]
  },
  {
   "cell_type": "code",
   "execution_count": 41,
   "metadata": {},
   "outputs": [
    {
     "name": "stdout",
     "output_type": "stream",
     "text": [
      "==================== File Dimension Statistics ====================\n",
      "Average damage file dimensions : [128. 128.]\n",
      "Average no_damage file dimensions: [128. 128.]\n",
      "Range of damage file dimensions : [128 128] - [128 128]\n",
      "Range of no_damage file dimensions: [128 128] - [128 128]\n"
     ]
    }
   ],
   "source": [
    "print(f\"{'='*20} File Dimension Statistics {'='*20}\")\n",
    "from skimage import io\n",
    "# calculating file dimension statistics\n",
    "damage_file_dims = [io.imread(file).shape for file in damage_file_set]\n",
    "no_damage_file_dims = [io.imread(file).shape for file in no_damage_file_set]\n",
    "print(f\"Average damage file dimensions : {np.mean(damage_file_dims, axis=0)[:2]}\")\n",
    "print(f\"Average no_damage file dimensions: {np.mean(no_damage_file_dims, axis=0)[:2]}\")\n",
    "print(f\"Range of damage file dimensions : {np.min(damage_file_dims, axis=0)[:2]} - {np.max(damage_file_dims, axis=0)[:2]}\")\n",
    "print(f\"Range of no_damage file dimensions: {np.min(no_damage_file_dims, axis=0)[:2]} - {np.max(no_damage_file_dims, axis=0)[:2]}\")"
   ]
  },
  {
   "cell_type": "markdown",
   "metadata": {},
   "source": [
    "We can see that the statistical measures for both image classes are mostly similar. Furthmore, the dimensions for all the images appear to be 128x128 pixels."
   ]
  },
  {
   "cell_type": "markdown",
   "metadata": {},
   "source": [
    "#### Now lets visualize the data to get a better understanding of the dataset."
   ]
  },
  {
   "cell_type": "code",
   "execution_count": 42,
   "metadata": {},
   "outputs": [
    {
     "name": "stdout",
     "output_type": "stream",
     "text": [
      "========== DAMAGE ==========\n"
     ]
    },
    {
     "data": {
      "image/jpeg": "[encoded data removed]",
      "text/plain": [
       "<IPython.core.display.Image object>"
      ]
     },
     "metadata": {},
     "output_type": "display_data"
    },
    {
     "data": {
      "image/jpeg": "[encoded data removed]",
      "text/plain": [
       "<IPython.core.display.Image object>"
      ]
     },
     "metadata": {},
     "output_type": "display_data"
    },
    {
     "name": "stdout",
     "output_type": "stream",
     "text": [
      "\n",
      "========== NO_DAMAGE ==========\n"
     ]
    },
    {
     "data": {
      "image/jpeg": "[encoded data removed]",
      "text/plain": [
       "<IPython.core.display.Image object>"
      ]
     },
     "metadata": {},
     "output_type": "display_data"
    },
    {
     "data": {
      "image/jpeg": "[encoded data removed]",
      "text/plain": [
       "<IPython.core.display.Image object>"
      ]
     },
     "metadata": {},
     "output_type": "display_data"
    }
   ],
   "source": [
    "from IPython.display import display, Image\n",
    "import matplotlib.pyplot as plt\n",
    "\n",
    "# visualizing fist 5 images from damage class\n",
    "print(f'{\"=\"*10} DAMAGE {\"=\"*10}')\n",
    "for i in range(2):\n",
    "    display(Image(filename=damage_file_set[i]))\n",
    "\n",
    "print()\n",
    "print(f'{\"=\"*10} NO_DAMAGE {\"=\"*10}')\n",
    "# visualizing fist 5 images from no_damage class\n",
    "for i in range(2):\n",
    "    display(Image(filename=no_damage_file_set[i]))  "
   ]
  },
  {
   "cell_type": "markdown",
   "metadata": {},
   "source": [
    "## Image Pre-Proccessing\n",
    "Because we will explore both ANN and CNN architectures, we will need to pre-process the images differently. For the ANN, we will flatten the images into a single vector. For the CNN, we will keep the images as 2D arrays using helper functions from libraries such as keras. First we will pre-process the images for our ANN model. "
   ]
  },
  {
   "cell_type": "code",
   "execution_count": 43,
   "metadata": {},
   "outputs": [],
   "source": [
    "from skimage import io, color\n",
    "\n",
    "# grayscaling + flattening + normalizing all images\n",
    "X_file_paths = damage_file_set + no_damage_file_set\n",
    "X = [color.rgb2gray(io.imread(file)).flatten()/255.0 for file in X_file_paths]\n",
    "y = np.array([1 for _ in range(len(damage_file_set))] + [0 for _ in range(len(no_damage_file_set))])\n",
    "\n",
    "from sklearn.model_selection import train_test_split\n",
    "\n",
    "# splitting data into training and testing sets\n",
    "X_train, X_test, y_train, y_test = train_test_split(X, y, test_size=0.2, stratify=y, random_state=1)\n",
    "X_train, X_test = np.array(X_train), np.array(X_test) # converting to numpy arrays\n",
    "\n",
    "\n",
    "# one-hot encoding the target variable y_train using keras to_categorical method\n",
    "from tensorflow.keras.utils import to_categorical\n",
    "\n",
    "num_classes = 2\n",
    "y_train_categorical = to_categorical(y_train, num_classes=num_classes)\n",
    "print(y_train_categorical[:5])\n",
    "print(\"1st column represents no_damage class and 2nd column represents damage class\")"
   ]
  },
  {
   "cell_type": "markdown",
   "metadata": {},
   "source": [
    "#### Now that we have processed the images for our ANN architecture, we can re-format our dataset for our CNN architectures. "
   ]
  },
  {
   "cell_type": "markdown",
   "metadata": {},
   "source": [
    "# Load & Split"
   ]
  },
  {
   "cell_type": "markdown",
   "metadata": {},
   "source": [
    "### Next, we can prepare the data set and split into test and train"
   ]
  },
  {
   "cell_type": "code",
   "execution_count": 46,
   "metadata": {},
   "outputs": [],
   "source": [
    "# clear directory before proceeding\n",
    "import shutil\n",
    "try:\n",
    "    shutil.rmtree(\"hurricane/train\")\n",
    "    shutil.rmtree(\"hurricane/test\")\n",
    "except:\n",
    "    pass"
   ]
  },
  {
   "cell_type": "code",
   "execution_count": 47,
   "metadata": {},
   "outputs": [],
   "source": [
    "# two classes: damage and no-damage\n",
    "# create directories for each class within train and test directory\n",
    "\n",
    "from pathlib import Path\n",
    "\n",
    "Path(\"hurricane/train/damage\").mkdir(parents=True, exist_ok=True)\n",
    "Path(\"hurricane/test/no-damage\").mkdir(parents=True, exist_ok=True)\n",
    "\n",
    "Path(\"hurricane/test/damage\").mkdir(parents=True, exist_ok=True)\n",
    "Path(\"hurricane/train/no-damage\").mkdir(parents=True, exist_ok=True)"
   ]
  },
  {
   "cell_type": "code",
   "execution_count": 53,
   "metadata": {},
   "outputs": [],
   "source": [
    "# updating path for each class's data set\n",
    "damage_file_paths = os.listdir(\"./coe379L-sp24/datasets/unit03/Project3/data_all_modified/damage\")\n",
    "no_damage_file_paths = os.listdir(\"./coe379L-sp24/datasets/unit03/Project3/data_all_modified/no_damage\")"
   ]
  },
  {
   "cell_type": "code",
   "execution_count": 54,
   "metadata": {},
   "outputs": [
    {
     "name": "stdout",
     "output_type": "stream",
     "text": [
      "========== DAMAGE ==========\n",
      "Train data set image count:  11336\n",
      "Test data set image count:  2834\n",
      "Overlap between train and test sets:  0\n",
      "\n",
      "========== NO_DAMAGE ==========\n",
      "Train data set image count:  5721\n",
      "Test data set image count:  2834\n",
      "Overlap between train and test sets:  0\n"
     ]
    }
   ],
   "source": [
    "# split image paths to train and test; 80% in train, 20% in test\n",
    "\n",
    "import random\n",
    "\n",
    "print(f'{\"=\"*10} DAMAGE {\"=\"*10}')\n",
    "train_damage_paths = random.sample(damage_file_paths, int(len(damage_file_paths)*0.8))\n",
    "print(\"Train data set image count: \", len(train_damage_paths))\n",
    "test_damage_paths = [ p for p in damage_file_paths if p not in train_damage_paths]\n",
    "print(\"Test data set image count: \", len(test_damage_paths))\n",
    "\n",
    "overlap = [p for p in train_damage_paths if p in test_damage_paths]\n",
    "print(\"Overlap between train and test sets: \", len(overlap))\n",
    "\n",
    "print(f'\\n{\"=\"*10} NO_DAMAGE {\"=\"*10}')\n",
    "train_no_damage_paths = random.sample(no_damage_file_paths, int(len(no_damage_file_paths)*0.8))\n",
    "print(\"Train data set image count: \", len(train_no_damage_paths))\n",
    "test_no_damage_paths = [ p for p in no_damage_file_paths if p not in train_no_damage_paths]\n",
    "print(\"Test data set image count: \", len(test_damage_paths))\n",
    "\n",
    "overlap = [p for p in train_no_damage_paths if p in test_no_damage_paths]\n",
    "print(\"Overlap between train and test sets: \", len(overlap))"
   ]
  },
  {
   "cell_type": "code",
   "execution_count": 59,
   "metadata": {},
   "outputs": [
    {
     "name": "stdout",
     "output_type": "stream",
     "text": [
      "========== DAMAGE ==========\n",
      "Files in train/damage:  11336\n",
      "Files in test/damage:  2834\n",
      "\n",
      "========== NO_DAMAGE ==========\n",
      "Files in train/no-damage:  5721\n",
      "Files in test/no-damage:  1431\n"
     ]
    }
   ],
   "source": [
    "# copy files into respective train and test directories\n",
    "for p in train_damage_paths:\n",
    "    shutil.copyfile(os.path.join(\"coe379L-sp24/datasets/unit03/Project3/data_all_modified/damage\", p), os.path.join(\"hurricane/train/damage\", p))\n",
    "\n",
    "for p in test_damage_paths:\n",
    "    shutil.copyfile(os.path.join(\"coe379L-sp24/datasets/unit03/Project3/data_all_modified/damage\", p), os.path.join(\"hurricane/test/damage\", p))\n",
    "\n",
    "print(f'{\"=\"*10} DAMAGE {\"=\"*10}')\n",
    "print(\"Files in train/damage: \", len(os.listdir(\"hurricane/train/damage\")))\n",
    "print(\"Files in test/damage: \", len(os.listdir(\"hurricane/test/damage\")))\n",
    "\n",
    "\n",
    "for p in train_no_damage_paths:\n",
    "    shutil.copyfile(os.path.join(\"coe379L-sp24/datasets/unit03/Project3/data_all_modified/no_damage\", p), os.path.join(\"hurricane/train/no-damage\", p))\n",
    "\n",
    "for p in test_no_damage_paths:\n",
    "    shutil.copyfile(os.path.join(\"coe379L-sp24/datasets/unit03/Project3/data_all_modified/no_damage\", p), os.path.join(\"hurricane/test/no-damage\", p))\n",
    "\n",
    "print(f'\\n{\"=\"*10} NO_DAMAGE {\"=\"*10}')\n",
    "print(\"Files in train/no-damage: \", len(os.listdir(\"hurricane/train/no-damage\")))\n",
    "print(\"Files in test/no-damage: \", len(os.listdir(\"hurricane/test/no-damage\")))"
   ]
  },
  {
   "cell_type": "code",
   "execution_count": null,
   "metadata": {},
   "outputs": [],
   "source": []
  },
  {
   "cell_type": "code",
   "execution_count": null,
   "metadata": {},
   "outputs": [],
   "source": []
  },
  {
   "cell_type": "code",
   "execution_count": null,
   "metadata": {},
   "outputs": [],
   "source": []
  },
  {
   "cell_type": "code",
   "execution_count": null,
   "metadata": {},
   "outputs": [],
   "source": [
    "#TODO "
   ]
  }
 ],
 "metadata": {
  "kernelspec": {
   "display_name": "Python 3 (ipykernel)",
   "language": "python",
   "name": "python3"
  },
  "language_info": {
   "codemirror_mode": {
    "name": "ipython",
    "version": 3
   },
   "file_extension": ".py",
   "mimetype": "text/x-python",
   "name": "python",
   "nbconvert_exporter": "python",
   "pygments_lexer": "ipython3",
   "version": "3.11.1"
  }
 },
 "nbformat": 4,
 "nbformat_minor": 2
}
