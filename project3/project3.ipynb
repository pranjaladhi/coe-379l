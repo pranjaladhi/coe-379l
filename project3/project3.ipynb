{
 "cells": [
  {
   "cell_type": "markdown",
   "metadata": {},
   "source": [
    "Project Description: You are given a dataset which contains satellite images from Texas after Hurricane Harvey. There are damaged and non-damaged building images organized into respective folders. You can find the project 3 dataset on the course GitHub repository here.\n",
    "\n",
    "Your goal is to build multiple neural networks based on different architectures to classify images as containing buildings that are either damaged or not damaged. You will evaluate each of the networks you develop and produce and select the “best” network to “deploy”. Note that this is a binary classification problem, where the goal it to classify whether the structure in the image has damage or does not have damage.\n",
    "\n",
    "Part 1: (3 points) Data preprocessing and visualization\n",
    "\n",
    "You will need to perform data analysis and pre-processing to prepare the images for training. At a minimum, you should:\n",
    "\n",
    "Write code to load the data into Python data structures\n",
    "\n",
    "Investigate the datasets to determine basic attributes of the images\n",
    "\n",
    "Ensure data is split for training, validation and testing and perform any additional preprocessing (e.g., rescaling, normalization, etc.) so that it can be used for training/evaluation of the neural networks you will build in Part 2.\n",
    "\n",
    "Part 2: (10 points) Model design, training and evaluation\n",
    "\n",
    "You will explore different model architectures that we have seen in class, including:\n",
    "\n",
    "A dense (i.e., fully connected) ANN\n",
    "\n",
    "The Lenet-5 CNN architecture\n",
    "\n",
    "Alternate-Lenet-5 CNN architecture, described in paper/except (Table 1, Page 12 of the research paper https://arxiv.org/pdf/1807.01688.pdf, but note that the dataset is not the same as that analyzed in the paper.)\n",
    "\n",
    "You are free to experiment with different variants on all three architectures above. For example, for the fully connected ANN, feel free to experiment with different numbers of layers and perceptrons. Train and evaluate each model you build,and select the “best” performing model.\n",
    "\n",
    "Note that the input and output dimensions are fixed, as the inputs (images) and the outputs (labels) have been given. These have important implications for your architecture. Make sure you understand the constraints these impose before beginning to design and implement your networks. Failure to implement these correctly will lead to incorrect architectures and significant penalty on the project grade.\n",
    "\n",
    "Note: You can also try to run the VGG-16 architecture from class, however, you may run into long runtimes and/or memory limits on the VM. It is also possible, depending on the architecture that you choose, that you could also run into memory constraints with any of the other architectures. If you are hitting memory issues, you can try to decrease the batch_size parameter in the .fit() function, as described in the notes.\n",
    "\n",
    "Part 3: (7 points) Model deployment\n",
    "\n",
    "For the best model built in part 2, persist the trained model to disk so that it can be reconstituted easily. Develop a simple inference server to serve your trained model over HTTP. There should be at least two endpoints:\n",
    "\n",
    "A model summary endpoint providing metadata about the model\n",
    "\n",
    "An inference endpoint that can perform classification on an image. Note: this endpoint will need to accept a binary message payload containing the image to classify and return a JSON response containing the results of the inference.\n",
    "\n",
    "Package your model inference server in a Docker container image and push the image to the Docker Hub. Provide instructions for starting and stopping your inference server using the docker-compose file. Provide examples of how to make requests to your inference server.\n",
    "\n",
    "\n",
    "Part 4: (7 points) Write a 3 page report summarizing your work. Be sure to include something about the following:\n",
    "\n",
    "Data preparation: what did you do? (1 pt)\n",
    "\n",
    "Model design: which architectures did you explore and what decisions did you make for each? (2 pts)\n",
    "\n",
    "Model evaluation: what model performed the best? How confident are you in your model? (1 pt)\n",
    "\n",
    "Model deployment and inference: a brief description of how to deploy/serve your model and how to use the model for inference (this material should also be in the README with examples) (1 pt)\n",
    "\n",
    "Submission guidelines: Part 1 and Part 2 should be submitted as one notebook file. Part 3 should include a Dockerfile, a docker image (prebuilt and pushed to Docker Hub) and a docker-compose.yml file for starting the container. It should also include a README with instructions for using the container image, docker-compose file and example requests. Part 4 should be submitted as a PDF file.\n",
    "\n",
    "In-class Project Checkpoint Thursday, April 4th. We will devote the first portion of Thursday’s class to checking in on the project and answering questions."
   ]
  },
  {
   "cell_type": "markdown",
   "metadata": {},
   "source": [
    "# Data Preparation"
   ]
  },
  {
   "cell_type": "code",
   "execution_count": 19,
   "metadata": {},
   "outputs": [
    {
     "ename": "ModuleNotFoundError",
     "evalue": "No module named 'cv2'",
     "output_type": "error",
     "traceback": [
      "\u001b[0;31m---------------------------------------------------------------------------\u001b[0m",
      "\u001b[0;31mModuleNotFoundError\u001b[0m                       Traceback (most recent call last)",
      "Cell \u001b[0;32mIn[19], line 3\u001b[0m\n\u001b[1;32m      1\u001b[0m \u001b[38;5;28;01mimport\u001b[39;00m \u001b[38;5;21;01mnumpy\u001b[39;00m \u001b[38;5;28;01mas\u001b[39;00m \u001b[38;5;21;01mnp\u001b[39;00m\n\u001b[1;32m      2\u001b[0m \u001b[38;5;28;01mimport\u001b[39;00m \u001b[38;5;21;01mos\u001b[39;00m\n\u001b[0;32m----> 3\u001b[0m \u001b[38;5;28;01mimport\u001b[39;00m \u001b[38;5;21;01mcv2\u001b[39;00m\n\u001b[1;32m      5\u001b[0m base_data_path \u001b[38;5;241m=\u001b[39m \u001b[38;5;124m\"\u001b[39m\u001b[38;5;124m./coe379L-sp24/datasets/unit03/Project3/data_all_modified/\u001b[39m\u001b[38;5;124m\"\u001b[39m\n\u001b[1;32m      6\u001b[0m damage_file_set \u001b[38;5;241m=\u001b[39m os\u001b[38;5;241m.\u001b[39mlistdir(base_data_path \u001b[38;5;241m+\u001b[39m \u001b[38;5;124m\"\u001b[39m\u001b[38;5;124mdamage/\u001b[39m\u001b[38;5;124m\"\u001b[39m)\n",
      "\u001b[0;31mModuleNotFoundError\u001b[0m: No module named 'cv2'"
     ]
    }
   ],
   "source": [
    "\n",
    "import numpy as np\n",
    "import os\n",
    "import cv2\n",
    "\n",
    "base_data_path = \"./coe379L-sp24/datasets/unit03/Project3/data_all_modified/\"\n",
    "damage_file_set = os.listdir(base_data_path + \"damage/\")\n",
    "no_damage_file_set = os.listdir(base_data_path + \"no_damage/\")\n",
    "print(\"damage file entry: \", damage_file_set[0])\n",
    "print(\"No damage file entry: \", no_damage_file_set[0])\n",
    "print()\n",
    "print(\"Number of damage files: \", len(damage_file_set))\n",
    "print(\"Number of no_damage files: \", len(no_damage_file_set))\n",
    "print(\"Total number of files: \", len(damage_file_set) + len(no_damage_file_set))"
   ]
  },
  {
   "cell_type": "markdown",
   "metadata": {},
   "source": [
    "First we seek preliminary information about our dataset such as the size of each file, the number of files in each class, and more."
   ]
  },
  {
   "cell_type": "code",
   "execution_count": 20,
   "metadata": {},
   "outputs": [
    {
     "name": "stdout",
     "output_type": "stream",
     "text": [
      "damage file entry:  ./coe379L-sp24/datasets/unit03/Project3/data_all_modified/damage/-95.613297_29.758008.jpeg\n",
      "No damage file entry:  ./coe379L-sp24/datasets/unit03/Project3/data_all_modified/no_damage/-96.93535899999999_28.727813.jpeg\n",
      "\n",
      "Average damage file size : 2.5123kB\n",
      "Average no_damage file size: 3.0134kB\n",
      "Range of damage file sizes : 0.9430kB - 5.6470kB\n",
      "Range of no_damage file sizes: 1.0200kB - 5.1340kB\n"
     ]
    },
    {
     "ename": "NameError",
     "evalue": "name 'cv2' is not defined",
     "output_type": "error",
     "traceback": [
      "\u001b[0;31m---------------------------------------------------------------------------\u001b[0m",
      "\u001b[0;31mNameError\u001b[0m                                 Traceback (most recent call last)",
      "Cell \u001b[0;32mIn[20], line 18\u001b[0m\n\u001b[1;32m     16\u001b[0m \u001b[38;5;66;03m# calculating file dimension statistics\u001b[39;00m\n\u001b[1;32m     17\u001b[0m make_readable \u001b[38;5;241m=\u001b[39m \u001b[38;5;28;01mlambda\u001b[39;00m dims: \u001b[38;5;124m\"\u001b[39m\u001b[38;5;124mx\u001b[39m\u001b[38;5;124m\"\u001b[39m\u001b[38;5;241m.\u001b[39mjoin(dims)\n\u001b[0;32m---> 18\u001b[0m damage_file_dims \u001b[38;5;241m=\u001b[39m \u001b[43m[\u001b[49m\u001b[43mcv2\u001b[49m\u001b[38;5;241;43m.\u001b[39;49m\u001b[43mimread\u001b[49m\u001b[43m(\u001b[49m\u001b[43mfile\u001b[49m\u001b[43m)\u001b[49m\u001b[38;5;241;43m.\u001b[39;49m\u001b[43mshape\u001b[49m\u001b[43m \u001b[49m\u001b[38;5;28;43;01mfor\u001b[39;49;00m\u001b[43m \u001b[49m\u001b[43mfile\u001b[49m\u001b[43m \u001b[49m\u001b[38;5;129;43;01min\u001b[39;49;00m\u001b[43m \u001b[49m\u001b[43mdamage_file_set\u001b[49m\u001b[43m]\u001b[49m\n\u001b[1;32m     19\u001b[0m no_damage_file_dims \u001b[38;5;241m=\u001b[39m [cv2\u001b[38;5;241m.\u001b[39mimread(file)\u001b[38;5;241m.\u001b[39mshape \u001b[38;5;28;01mfor\u001b[39;00m file \u001b[38;5;129;01min\u001b[39;00m no_damage_file_set]\n\u001b[1;32m     20\u001b[0m \u001b[38;5;28mprint\u001b[39m(\u001b[38;5;124mf\u001b[39m\u001b[38;5;124m\"\u001b[39m\u001b[38;5;124mAverage damage file dimensions : \u001b[39m\u001b[38;5;132;01m{\u001b[39;00mmake_readable(np\u001b[38;5;241m.\u001b[39mmean(damage_file_dims,\u001b[38;5;250m \u001b[39maxis\u001b[38;5;241m=\u001b[39m\u001b[38;5;241m0\u001b[39m))\u001b[38;5;132;01m}\u001b[39;00m\u001b[38;5;124m\"\u001b[39m)\n",
      "Cell \u001b[0;32mIn[20], line 18\u001b[0m, in \u001b[0;36m<listcomp>\u001b[0;34m(.0)\u001b[0m\n\u001b[1;32m     16\u001b[0m \u001b[38;5;66;03m# calculating file dimension statistics\u001b[39;00m\n\u001b[1;32m     17\u001b[0m make_readable \u001b[38;5;241m=\u001b[39m \u001b[38;5;28;01mlambda\u001b[39;00m dims: \u001b[38;5;124m\"\u001b[39m\u001b[38;5;124mx\u001b[39m\u001b[38;5;124m\"\u001b[39m\u001b[38;5;241m.\u001b[39mjoin(dims)\n\u001b[0;32m---> 18\u001b[0m damage_file_dims \u001b[38;5;241m=\u001b[39m [\u001b[43mcv2\u001b[49m\u001b[38;5;241m.\u001b[39mimread(file)\u001b[38;5;241m.\u001b[39mshape \u001b[38;5;28;01mfor\u001b[39;00m file \u001b[38;5;129;01min\u001b[39;00m damage_file_set]\n\u001b[1;32m     19\u001b[0m no_damage_file_dims \u001b[38;5;241m=\u001b[39m [cv2\u001b[38;5;241m.\u001b[39mimread(file)\u001b[38;5;241m.\u001b[39mshape \u001b[38;5;28;01mfor\u001b[39;00m file \u001b[38;5;129;01min\u001b[39;00m no_damage_file_set]\n\u001b[1;32m     20\u001b[0m \u001b[38;5;28mprint\u001b[39m(\u001b[38;5;124mf\u001b[39m\u001b[38;5;124m\"\u001b[39m\u001b[38;5;124mAverage damage file dimensions : \u001b[39m\u001b[38;5;132;01m{\u001b[39;00mmake_readable(np\u001b[38;5;241m.\u001b[39mmean(damage_file_dims,\u001b[38;5;250m \u001b[39maxis\u001b[38;5;241m=\u001b[39m\u001b[38;5;241m0\u001b[39m))\u001b[38;5;132;01m}\u001b[39;00m\u001b[38;5;124m\"\u001b[39m)\n",
      "\u001b[0;31mNameError\u001b[0m: name 'cv2' is not defined"
     ]
    }
   ],
   "source": [
    "# updating file paths for each image belonging to both classes\n",
    "damage_file_set = [base_data_path + \"damage/\" + file for file in os.listdir(base_data_path + \"damage/\")]\n",
    "no_damage_file_set = [base_data_path + \"no_damage/\" + file for file in os.listdir(base_data_path + \"no_damage/\")]\n",
    "print(\"damage file entry: \", damage_file_set[0])\n",
    "print(\"No damage file entry: \", no_damage_file_set[0])\n",
    "print()\n",
    "\n",
    "# calculating file size statistics\n",
    "damage_file_sizes = [os.path.getsize(file) for file in damage_file_set]\n",
    "no_damage_file_sizes = [os.path.getsize(file) for file in no_damage_file_set]\n",
    "print(f\"Average damage file size : {np.mean(damage_file_sizes)/1000:0.4f}kB\")\n",
    "print(f\"Average no_damage file size: {np.mean(no_damage_file_sizes)/1000:0.4f}kB\")\n",
    "print(f\"Range of damage file sizes : {np.min(damage_file_sizes)/1000:0.4f}kB - {np.max(damage_file_sizes)/1000:0.4f}kB\")\n",
    "print(f\"Range of no_damage file sizes: {np.min(no_damage_file_sizes)/1000:0.4f}kB - {np.max(no_damage_file_sizes)/1000:0.4f}kB\")\n",
    "\n",
    "# calculating file dimension statistics\n",
    "make_readable = lambda dims: \"x\".join(dims) # helper function to make dimensions more readable\n",
    "damage_file_dims = [cv2.imread(file).shape for file in damage_file_set]\n",
    "no_damage_file_dims = [cv2.imread(file).shape for file in no_damage_file_set]\n",
    "print(f\"Average damage file dimensions : {make_readable(np.mean(damage_file_dims, axis=0))}\")\n",
    "print(f\"Average no_damage file dimensions: {make_readable(np.mean(no_damage_file_dims, axis=0))}\")\n",
    "print(f\"Range of damage file dimensions : {make_readable(np.min(damage_file_dims, axis=0))} - {make_readable(np.max(damage_file_dims, axis=0))}\")\n",
    "print(f\"Range of no_damage file dimensions: {make_readable(np.min(no_damage_file_dims, axis=0))} - {make_readable(np.max(no_damage_file_dims, axis=0))}\")\n"
   ]
  },
  {
   "cell_type": "markdown",
   "metadata": {},
   "source": [
    "#### Now we can check the dimensions of each image in the datasets"
   ]
  },
  {
   "cell_type": "code",
   "execution_count": null,
   "metadata": {},
   "outputs": [],
   "source": []
  }
 ],
 "metadata": {
  "kernelspec": {
   "display_name": "Python 3 (ipykernel)",
   "language": "python",
   "name": "python3"
  }
 },
 "nbformat": 4,
 "nbformat_minor": 2
}
