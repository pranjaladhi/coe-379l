{
 "cells": [
  {
   "cell_type": "markdown",
   "id": "adbc13cf-4ba8-4b64-b466-c412e96174eb",
   "metadata": {},
   "source": [
    "# Project 2\n",
    "## COE379L: Software Design for Responsible Intelligent Systems\n",
    "### Pranjal Adhikari, pa8729"
   ]
  },
  {
   "cell_type": "markdown",
   "id": "b95b13df-5454-45c9-8d21-b28ff7d3ba4b",
   "metadata": {},
   "source": [
    "## Part 1: Data Preprocessing"
   ]
  },
  {
   "cell_type": "code",
   "execution_count": 134,
   "id": "b18392aa-84fa-47b0-8e7e-ea072a2aa7f2",
   "metadata": {},
   "outputs": [],
   "source": [
    "# import libraries needed\n",
    "import pandas as pd\n",
    "import matplotlib.pyplot as plt\n",
    "import seaborn as sns"
   ]
  },
  {
   "cell_type": "code",
   "execution_count": 135,
   "id": "dd3ac90e-762e-402b-b393-96645e9ba25c",
   "metadata": {},
   "outputs": [],
   "source": [
    "# read data into variable bcdata\n",
    "bcdata = pd.read_csv('https://raw.githubusercontent.com/joestubbs/coe379L-sp24/master/datasets/unit02/project2.data')"
   ]
  },
  {
   "cell_type": "markdown",
   "id": "f181cdf0-37f1-459d-a926-508e098fd3a4",
   "metadata": {},
   "source": [
    "### Shape & Size"
   ]
  },
  {
   "cell_type": "code",
   "execution_count": 136,
   "id": "f0be76c5-1703-456d-8689-5ff29fcca4d6",
   "metadata": {},
   "outputs": [
    {
     "data": {
      "text/plain": [
       "(286, 10)"
      ]
     },
     "execution_count": 136,
     "metadata": {},
     "output_type": "execute_result"
    }
   ],
   "source": [
    "# shape of data set\n",
    "bcdata.shape"
   ]
  },
  {
   "cell_type": "code",
   "execution_count": 137,
   "id": "e9f4acd1-d37b-41a7-813d-dc24df57915b",
   "metadata": {},
   "outputs": [
    {
     "data": {
      "text/plain": [
       "2860"
      ]
     },
     "execution_count": 137,
     "metadata": {},
     "output_type": "execute_result"
    }
   ],
   "source": [
    "# size of data set\n",
    "bcdata.size"
   ]
  },
  {
   "cell_type": "markdown",
   "id": "ccd24f9e-26bd-4a75-90ea-8f715ff88353",
   "metadata": {},
   "source": [
    "### Data Information & Conversion"
   ]
  },
  {
   "cell_type": "code",
   "execution_count": 138,
   "id": "da8274d4-f669-4f44-abb8-a0ef468d15ee",
   "metadata": {},
   "outputs": [
    {
     "name": "stdout",
     "output_type": "stream",
     "text": [
      "<class 'pandas.core.frame.DataFrame'>\n",
      "RangeIndex: 286 entries, 0 to 285\n",
      "Data columns (total 10 columns):\n",
      " #   Column       Non-Null Count  Dtype \n",
      "---  ------       --------------  ----- \n",
      " 0   class        286 non-null    object\n",
      " 1   age          286 non-null    object\n",
      " 2   menopause    286 non-null    object\n",
      " 3   tumor-size   286 non-null    object\n",
      " 4   inv-nodes    286 non-null    object\n",
      " 5   node-caps    286 non-null    object\n",
      " 6   deg-malig    286 non-null    int64 \n",
      " 7   breast       286 non-null    object\n",
      " 8   breast-quad  286 non-null    object\n",
      " 9   irradiat     286 non-null    object\n",
      "dtypes: int64(1), object(9)\n",
      "memory usage: 22.5+ KB\n"
     ]
    }
   ],
   "source": [
    "# information about data in each column\n",
    "bcdata.info()"
   ]
  },
  {
   "cell_type": "code",
   "execution_count": 139,
   "id": "54700dcc-30bf-4fbd-abce-56692b53a732",
   "metadata": {},
   "outputs": [
    {
     "name": "stdout",
     "output_type": "stream",
     "text": [
      "<class 'pandas.core.frame.DataFrame'>\n",
      "RangeIndex: 286 entries, 0 to 285\n",
      "Data columns (total 10 columns):\n",
      " #   Column       Non-Null Count  Dtype   \n",
      "---  ------       --------------  -----   \n",
      " 0   class        286 non-null    category\n",
      " 1   age          286 non-null    category\n",
      " 2   menopause    286 non-null    category\n",
      " 3   tumor-size   286 non-null    category\n",
      " 4   inv-nodes    286 non-null    category\n",
      " 5   node-caps    286 non-null    category\n",
      " 6   deg-malig    286 non-null    int64   \n",
      " 7   breast       286 non-null    category\n",
      " 8   breast-quad  286 non-null    category\n",
      " 9   irradiat     286 non-null    category\n",
      "dtypes: category(9), int64(1)\n",
      "memory usage: 6.7 KB\n"
     ]
    }
   ],
   "source": [
    "# convert all columns but deg-malig to datatype category\n",
    "for i in bcdata:\n",
    "    if i != 'deg-malig':\n",
    "        bcdata[i] = bcdata[i].astype('category')\n",
    "\n",
    "bcdata.info()"
   ]
  },
  {
   "cell_type": "markdown",
   "id": "07099947-04ce-43d6-9faf-92a5f95f8838",
   "metadata": {},
   "source": [
    "### Invalid Values & Missing Data"
   ]
  },
  {
   "cell_type": "code",
   "execution_count": 140,
   "id": "fecbbe93-efbc-4a17-b37e-e8798242718d",
   "metadata": {},
   "outputs": [
    {
     "name": "stdout",
     "output_type": "stream",
     "text": [
      "Column:\n",
      "class ['no-recurrence-events', 'recurrence-events']\n",
      "Categories (2, object): ['no-recurrence-events', 'recurrence-events']\n",
      "age ['30-39', '40-49', '60-69', '50-59', '70-79', '20-29']\n",
      "Categories (6, object): ['20-29', '30-39', '40-49', '50-59', '60-69', '70-79']\n",
      "menopause ['premeno', 'ge40', 'lt40']\n",
      "Categories (3, object): ['ge40', 'lt40', 'premeno']\n",
      "tumor-size ['30-34', '20-24', '15-19', '0-4', '25-29', ..., '10-14', '40-44', '35-39', '5-9', '45-49']\n",
      "Length: 11\n",
      "Categories (11, object): ['0-4', '10-14', '15-19', '20-24', ..., '40-44', '45-49', '5-9', '50-54']\n",
      "inv-nodes ['0-2', '6-8', '9-11', '3-5', '15-17', '12-14', '24-26']\n",
      "Categories (7, object): ['0-2', '12-14', '15-17', '24-26', '3-5', '6-8', '9-11']\n",
      "node-caps ['no', 'yes', '?']\n",
      "Categories (3, object): ['?', 'no', 'yes']\n",
      "deg-malig [3 2 1]\n",
      "breast ['left', 'right']\n",
      "Categories (2, object): ['left', 'right']\n",
      "breast-quad ['left_low', 'right_up', 'left_up', 'right_low', 'central', '?']\n",
      "Categories (6, object): ['?', 'central', 'left_low', 'left_up', 'right_low', 'right_up']\n",
      "irradiat ['no', 'yes']\n",
      "Categories (2, object): ['no', 'yes']\n"
     ]
    }
   ],
   "source": [
    "# print values within each column\n",
    "print(\"Column:\")\n",
    "for i in bcdata:\n",
    "    print(i, bcdata[i].unique())"
   ]
  },
  {
   "cell_type": "code",
   "execution_count": 141,
   "id": "bec567f0-cf7c-4b7e-9b9f-9235af403639",
   "metadata": {},
   "outputs": [
    {
     "data": {
      "text/html": [
       "<div>\n",
       "<style scoped>\n",
       "    .dataframe tbody tr th:only-of-type {\n",
       "        vertical-align: middle;\n",
       "    }\n",
       "\n",
       "    .dataframe tbody tr th {\n",
       "        vertical-align: top;\n",
       "    }\n",
       "\n",
       "    .dataframe thead th {\n",
       "        text-align: right;\n",
       "    }\n",
       "</style>\n",
       "<table border=\"1\" class=\"dataframe\">\n",
       "  <thead>\n",
       "    <tr style=\"text-align: right;\">\n",
       "      <th></th>\n",
       "      <th>class</th>\n",
       "      <th>age</th>\n",
       "      <th>menopause</th>\n",
       "      <th>tumor-size</th>\n",
       "      <th>inv-nodes</th>\n",
       "      <th>node-caps</th>\n",
       "      <th>deg-malig</th>\n",
       "      <th>breast</th>\n",
       "      <th>breast-quad</th>\n",
       "      <th>irradiat</th>\n",
       "    </tr>\n",
       "  </thead>\n",
       "  <tbody>\n",
       "    <tr>\n",
       "      <th>145</th>\n",
       "      <td>no-recurrence-events</td>\n",
       "      <td>40-49</td>\n",
       "      <td>premeno</td>\n",
       "      <td>25-29</td>\n",
       "      <td>0-2</td>\n",
       "      <td>?</td>\n",
       "      <td>2</td>\n",
       "      <td>left</td>\n",
       "      <td>right_low</td>\n",
       "      <td>yes</td>\n",
       "    </tr>\n",
       "    <tr>\n",
       "      <th>163</th>\n",
       "      <td>no-recurrence-events</td>\n",
       "      <td>60-69</td>\n",
       "      <td>ge40</td>\n",
       "      <td>25-29</td>\n",
       "      <td>3-5</td>\n",
       "      <td>?</td>\n",
       "      <td>1</td>\n",
       "      <td>right</td>\n",
       "      <td>left_up</td>\n",
       "      <td>yes</td>\n",
       "    </tr>\n",
       "    <tr>\n",
       "      <th>164</th>\n",
       "      <td>no-recurrence-events</td>\n",
       "      <td>60-69</td>\n",
       "      <td>ge40</td>\n",
       "      <td>25-29</td>\n",
       "      <td>3-5</td>\n",
       "      <td>?</td>\n",
       "      <td>1</td>\n",
       "      <td>right</td>\n",
       "      <td>left_low</td>\n",
       "      <td>yes</td>\n",
       "    </tr>\n",
       "    <tr>\n",
       "      <th>183</th>\n",
       "      <td>no-recurrence-events</td>\n",
       "      <td>50-59</td>\n",
       "      <td>ge40</td>\n",
       "      <td>30-34</td>\n",
       "      <td>9-11</td>\n",
       "      <td>?</td>\n",
       "      <td>3</td>\n",
       "      <td>left</td>\n",
       "      <td>left_up</td>\n",
       "      <td>yes</td>\n",
       "    </tr>\n",
       "    <tr>\n",
       "      <th>184</th>\n",
       "      <td>no-recurrence-events</td>\n",
       "      <td>50-59</td>\n",
       "      <td>ge40</td>\n",
       "      <td>30-34</td>\n",
       "      <td>9-11</td>\n",
       "      <td>?</td>\n",
       "      <td>3</td>\n",
       "      <td>left</td>\n",
       "      <td>left_low</td>\n",
       "      <td>yes</td>\n",
       "    </tr>\n",
       "    <tr>\n",
       "      <th>233</th>\n",
       "      <td>recurrence-events</td>\n",
       "      <td>70-79</td>\n",
       "      <td>ge40</td>\n",
       "      <td>15-19</td>\n",
       "      <td>9-11</td>\n",
       "      <td>?</td>\n",
       "      <td>1</td>\n",
       "      <td>left</td>\n",
       "      <td>left_low</td>\n",
       "      <td>yes</td>\n",
       "    </tr>\n",
       "    <tr>\n",
       "      <th>263</th>\n",
       "      <td>recurrence-events</td>\n",
       "      <td>50-59</td>\n",
       "      <td>lt40</td>\n",
       "      <td>20-24</td>\n",
       "      <td>0-2</td>\n",
       "      <td>?</td>\n",
       "      <td>1</td>\n",
       "      <td>left</td>\n",
       "      <td>left_up</td>\n",
       "      <td>no</td>\n",
       "    </tr>\n",
       "    <tr>\n",
       "      <th>264</th>\n",
       "      <td>recurrence-events</td>\n",
       "      <td>50-59</td>\n",
       "      <td>lt40</td>\n",
       "      <td>20-24</td>\n",
       "      <td>0-2</td>\n",
       "      <td>?</td>\n",
       "      <td>1</td>\n",
       "      <td>left</td>\n",
       "      <td>left_low</td>\n",
       "      <td>no</td>\n",
       "    </tr>\n",
       "  </tbody>\n",
       "</table>\n",
       "</div>"
      ],
      "text/plain": [
       "                    class    age menopause tumor-size inv-nodes node-caps  \\\n",
       "145  no-recurrence-events  40-49   premeno      25-29       0-2         ?   \n",
       "163  no-recurrence-events  60-69      ge40      25-29       3-5         ?   \n",
       "164  no-recurrence-events  60-69      ge40      25-29       3-5         ?   \n",
       "183  no-recurrence-events  50-59      ge40      30-34      9-11         ?   \n",
       "184  no-recurrence-events  50-59      ge40      30-34      9-11         ?   \n",
       "233     recurrence-events  70-79      ge40      15-19      9-11         ?   \n",
       "263     recurrence-events  50-59      lt40      20-24       0-2         ?   \n",
       "264     recurrence-events  50-59      lt40      20-24       0-2         ?   \n",
       "\n",
       "     deg-malig breast breast-quad irradiat  \n",
       "145          2   left   right_low      yes  \n",
       "163          1  right     left_up      yes  \n",
       "164          1  right    left_low      yes  \n",
       "183          3   left     left_up      yes  \n",
       "184          3   left    left_low      yes  \n",
       "233          1   left    left_low      yes  \n",
       "263          1   left     left_up       no  \n",
       "264          1   left    left_low       no  "
      ]
     },
     "execution_count": 141,
     "metadata": {},
     "output_type": "execute_result"
    }
   ],
   "source": [
    "# determine rows with '?' values in node-caps column\n",
    "bcdata[bcdata['node-caps'] == '?']"
   ]
  },
  {
   "cell_type": "code",
   "execution_count": 142,
   "id": "8eed974c-954d-4dc2-a06c-1e55cef8052f",
   "metadata": {},
   "outputs": [
    {
     "data": {
      "text/html": [
       "<div>\n",
       "<style scoped>\n",
       "    .dataframe tbody tr th:only-of-type {\n",
       "        vertical-align: middle;\n",
       "    }\n",
       "\n",
       "    .dataframe tbody tr th {\n",
       "        vertical-align: top;\n",
       "    }\n",
       "\n",
       "    .dataframe thead th {\n",
       "        text-align: right;\n",
       "    }\n",
       "</style>\n",
       "<table border=\"1\" class=\"dataframe\">\n",
       "  <thead>\n",
       "    <tr style=\"text-align: right;\">\n",
       "      <th></th>\n",
       "      <th>class</th>\n",
       "      <th>age</th>\n",
       "      <th>menopause</th>\n",
       "      <th>tumor-size</th>\n",
       "      <th>inv-nodes</th>\n",
       "      <th>node-caps</th>\n",
       "      <th>deg-malig</th>\n",
       "      <th>breast</th>\n",
       "      <th>breast-quad</th>\n",
       "      <th>irradiat</th>\n",
       "    </tr>\n",
       "  </thead>\n",
       "  <tbody>\n",
       "    <tr>\n",
       "      <th>206</th>\n",
       "      <td>recurrence-events</td>\n",
       "      <td>50-59</td>\n",
       "      <td>ge40</td>\n",
       "      <td>30-34</td>\n",
       "      <td>0-2</td>\n",
       "      <td>no</td>\n",
       "      <td>3</td>\n",
       "      <td>left</td>\n",
       "      <td>?</td>\n",
       "      <td>no</td>\n",
       "    </tr>\n",
       "  </tbody>\n",
       "</table>\n",
       "</div>"
      ],
      "text/plain": [
       "                 class    age menopause tumor-size inv-nodes node-caps  \\\n",
       "206  recurrence-events  50-59      ge40      30-34       0-2        no   \n",
       "\n",
       "     deg-malig breast breast-quad irradiat  \n",
       "206          3   left           ?       no  "
      ]
     },
     "execution_count": 142,
     "metadata": {},
     "output_type": "execute_result"
    }
   ],
   "source": [
    "# determine rows with '?' values in breast-quad column\n",
    "bcdata[bcdata['breast-quad'] == '?']"
   ]
  },
  {
   "cell_type": "code",
   "execution_count": 143,
   "id": "1af13556-9304-4f30-9778-711c1d0dd22e",
   "metadata": {},
   "outputs": [],
   "source": [
    "# replace '?' values in node-caps column to mode of node-caps\n",
    "bcdata.replace({'node-caps': bcdata['node-caps'].mode()[0]}, inplace=True)\n",
    "\n",
    "# replace '?' values in breast-quad column to mode of breast-quad\n",
    "bcdata.replace({'breast-quad': bcdata['breast-quad'].mode()[0]}, inplace=True)"
   ]
  },
  {
   "cell_type": "code",
   "execution_count": 144,
   "id": "62179270-9b5b-41af-8dd1-c32cfc31a0ed",
   "metadata": {},
   "outputs": [
    {
     "data": {
      "text/plain": [
       "class          0\n",
       "age            0\n",
       "menopause      0\n",
       "tumor-size     0\n",
       "inv-nodes      0\n",
       "node-caps      0\n",
       "deg-malig      0\n",
       "breast         0\n",
       "breast-quad    0\n",
       "irradiat       0\n",
       "dtype: int64"
      ]
     },
     "execution_count": 144,
     "metadata": {},
     "output_type": "execute_result"
    }
   ],
   "source": [
    "# total num of missing data in each column\n",
    "bcdata.isnull().sum()"
   ]
  },
  {
   "cell_type": "markdown",
   "id": "29544b4b-b5dd-44f5-8e92-fcdc56a69cc1",
   "metadata": {},
   "source": [
    "### Visualization"
   ]
  },
  {
   "cell_type": "code",
   "execution_count": 145,
   "id": "92663831-c36a-464b-b395-af71c420e97e",
   "metadata": {},
   "outputs": [
    {
     "data": {
      "text/plain": [
       "Text(0.5, 1.0, 'Count of Tumor Size Range')"
      ]
     },
     "execution_count": 145,
     "metadata": {},
     "output_type": "execute_result"
    },
    {
     "data": {
      "image/png": "[encoded data removed]",
      "text/plain": [
       "<Figure size 640x480 with 1 Axes>"
      ]
     },
     "metadata": {},
     "output_type": "display_data"
    }
   ],
   "source": [
    "# tumor size range plot\n",
    "xvals = ['0-4', '5-9', '10-14', '15-19', '20-24', '25-29', '30-34', '35-39', '40-44', '45-49', '50-54']\n",
    "sns.countplot(x=bcdata['tumor-size'], order=xvals)\n",
    "plt.xlabel(\"Tumor Size Range (mm)\")\n",
    "plt.title(\"Count of Tumor Size Range\")"
   ]
  },
  {
   "cell_type": "raw",
   "id": "a448a150-a70a-4835-b3d7-560920711152",
   "metadata": {},
   "source": [
    "The most frequent tumor size is in the range 30-34mm, and the lowest is 45-49mm."
   ]
  },
  {
   "cell_type": "code",
   "execution_count": 146,
   "id": "a4139806-369c-4b46-990e-0f59afc1e978",
   "metadata": {},
   "outputs": [
    {
     "data": {
      "text/plain": [
       "Text(0.5, 1.0, 'Age Range of Breast Cancer Patients')"
      ]
     },
     "execution_count": 146,
     "metadata": {},
     "output_type": "execute_result"
    },
    {
     "data": {
      "image/png": "[encoded data removed]",
      "text/plain": [
       "<Figure size 640x480 with 1 Axes>"
      ]
     },
     "metadata": {},
     "output_type": "display_data"
    }
   ],
   "source": [
    "# age ranges of breast cancer patients\n",
    "sns.countplot(x=bcdata['age'])\n",
    "plt.xlabel(\"Age Range\")\n",
    "plt.title(\"Age Range of Breast Cancer Patients\")"
   ]
  },
  {
   "cell_type": "raw",
   "id": "d67972f6-0b52-4e5f-9883-394b75674872",
   "metadata": {},
   "source": [
    "Breast cancer in the data set is most prevalent in the age range of 50-59. Furthermore, the age range of 20-29 had the least amount of breast cancer cases."
   ]
  },
  {
   "cell_type": "code",
   "execution_count": 147,
   "id": "bea33385-0654-415f-8f1d-803919593e0b",
   "metadata": {},
   "outputs": [
    {
     "data": {
      "text/plain": [
       "Text(0.5, 1.0, 'Location of Breast Cancer')"
      ]
     },
     "execution_count": 147,
     "metadata": {},
     "output_type": "execute_result"
    },
    {
     "data": {
      "image/png": "[encoded data removed]",
      "text/plain": [
       "<Figure size 640x480 with 1 Axes>"
      ]
     },
     "metadata": {},
     "output_type": "display_data"
    }
   ],
   "source": [
    "# breast cancer location\n",
    "sns.countplot(x=bcdata['breast'])\n",
    "plt.xlabel(\"Breast Location\")\n",
    "plt.title(\"Location of Breast Cancer\")"
   ]
  },
  {
   "cell_type": "raw",
   "id": "6b16e82a-e7c4-461b-a419-f4cee23c49f0",
   "metadata": {},
   "source": [
    "In the data set, both the left and right breast had similar number of cases. However, the left breast had slightly more cases at ~150."
   ]
  },
  {
   "cell_type": "markdown",
   "id": "0b27ee13-1590-48f8-bb5c-0dcf6883222f",
   "metadata": {},
   "source": [
    "### One-hot Encoding"
   ]
  },
  {
   "cell_type": "code",
   "execution_count": 148,
   "id": "f1cdbc54-a615-49c8-9cf1-103d5334c71a",
   "metadata": {},
   "outputs": [],
   "source": [
    "# one-hot encoding on all columns except deg-malig\n",
    "bcdata = pd.get_dummies(bcdata, columns=[\"class\", \"menopause\", \"age\", \"tumor-size\", \"inv-nodes\", \"node-caps\", \"breast\", \"breast-quad\", \"irradiat\"], drop_first=True)"
   ]
  },
  {
   "cell_type": "code",
   "execution_count": 149,
   "id": "b27e2f32-5883-4b48-bc2e-ad5fd964bfbc",
   "metadata": {},
   "outputs": [
    {
     "name": "stdout",
     "output_type": "stream",
     "text": [
      "<class 'pandas.core.frame.DataFrame'>\n",
      "RangeIndex: 286 entries, 0 to 285\n",
      "Data columns (total 34 columns):\n",
      " #   Column                   Non-Null Count  Dtype\n",
      "---  ------                   --------------  -----\n",
      " 0   deg-malig                286 non-null    int64\n",
      " 1   class_recurrence-events  286 non-null    bool \n",
      " 2   menopause_lt40           286 non-null    bool \n",
      " 3   menopause_premeno        286 non-null    bool \n",
      " 4   age_30-39                286 non-null    bool \n",
      " 5   age_40-49                286 non-null    bool \n",
      " 6   age_50-59                286 non-null    bool \n",
      " 7   age_60-69                286 non-null    bool \n",
      " 8   age_70-79                286 non-null    bool \n",
      " 9   tumor-size_10-14         286 non-null    bool \n",
      " 10  tumor-size_15-19         286 non-null    bool \n",
      " 11  tumor-size_20-24         286 non-null    bool \n",
      " 12  tumor-size_25-29         286 non-null    bool \n",
      " 13  tumor-size_30-34         286 non-null    bool \n",
      " 14  tumor-size_35-39         286 non-null    bool \n",
      " 15  tumor-size_40-44         286 non-null    bool \n",
      " 16  tumor-size_45-49         286 non-null    bool \n",
      " 17  tumor-size_5-9           286 non-null    bool \n",
      " 18  tumor-size_50-54         286 non-null    bool \n",
      " 19  inv-nodes_12-14          286 non-null    bool \n",
      " 20  inv-nodes_15-17          286 non-null    bool \n",
      " 21  inv-nodes_24-26          286 non-null    bool \n",
      " 22  inv-nodes_3-5            286 non-null    bool \n",
      " 23  inv-nodes_6-8            286 non-null    bool \n",
      " 24  inv-nodes_9-11           286 non-null    bool \n",
      " 25  node-caps_no             286 non-null    bool \n",
      " 26  node-caps_yes            286 non-null    bool \n",
      " 27  breast_right             286 non-null    bool \n",
      " 28  breast-quad_central      286 non-null    bool \n",
      " 29  breast-quad_left_low     286 non-null    bool \n",
      " 30  breast-quad_left_up      286 non-null    bool \n",
      " 31  breast-quad_right_low    286 non-null    bool \n",
      " 32  breast-quad_right_up     286 non-null    bool \n",
      " 33  irradiat_yes             286 non-null    bool \n",
      "dtypes: bool(33), int64(1)\n",
      "memory usage: 11.6 KB\n"
     ]
    }
   ],
   "source": [
    "# new columns created\n",
    "bcdata.info()"
   ]
  },
  {
   "cell_type": "markdown",
   "id": "8e06cc03-56c7-4b43-9349-b673bea8535f",
   "metadata": {},
   "source": [
    "## Part 2: Assessing Models"
   ]
  },
  {
   "cell_type": "code",
   "execution_count": 150,
   "id": "01443d16-27c2-4e8d-9135-c92502126610",
   "metadata": {},
   "outputs": [],
   "source": [
    "# import libraries needed\n",
    "from sklearn.model_selection import train_test_split\n",
    "import numpy as np"
   ]
  },
  {
   "cell_type": "markdown",
   "id": "33c50e6c-52ad-4009-acff-d3feaf4fb2ad",
   "metadata": {},
   "source": [
    "### Preparation"
   ]
  },
  {
   "cell_type": "code",
   "execution_count": 151,
   "id": "d8b94698-d88e-48f8-8155-cd735b38af26",
   "metadata": {},
   "outputs": [],
   "source": [
    "# save all variables but class_recurrence-events as independent variables\n",
    "X = bcdata.drop('class_recurrence-events', axis=1)\n",
    "\n",
    "# save class_recurrence-events as dependent variable, target value\n",
    "y = bcdata['class_recurrence-events']"
   ]
  },
  {
   "cell_type": "markdown",
   "id": "be28d254-34f6-40b7-9bae-906416381d68",
   "metadata": {},
   "source": [
    "### K-Nearest Neighbor Classifier & Results"
   ]
  },
  {
   "cell_type": "code",
   "execution_count": 152,
   "id": "e4feb4c3-9cf7-4304-8113-2efb645d6436",
   "metadata": {},
   "outputs": [],
   "source": [
    "# split into train & test \n",
    "X_train, X_test, y_train, y_test = train_test_split(X, y, test_size=0.3, stratify=y, random_state=1)"
   ]
  },
  {
   "cell_type": "code",
   "execution_count": 153,
   "id": "773b1f81-d3d9-49a1-bdde-9ab1aeeb4470",
   "metadata": {},
   "outputs": [],
   "source": [
    "from sklearn.neighbors import KNeighborsClassifier\n",
    "\n",
    "# search for optimal hyperparameter\n",
    "knn_search_accuracy = KNeighborsClassifier()"
   ]
  },
  {
   "cell_type": "code",
   "execution_count": 154,
   "id": "1a2284fc-4682-4949-bf2e-503634cd296a",
   "metadata": {},
   "outputs": [],
   "source": [
    "# dictionary of values to test for n_neighbors\n",
    "param_grid = {\"n_neighbors\": np.arange(1, 100)}"
   ]
  },
  {
   "cell_type": "code",
   "execution_count": 155,
   "id": "85bae3e1-da31-4c61-a1fb-a9aebaf8f89e",
   "metadata": {},
   "outputs": [],
   "source": [
    "from sklearn.model_selection import GridSearchCV\n",
    "\n",
    "# instantinate GridSearchCV to pass model and list of hyperparameters\n",
    "knn_gscv = GridSearchCV(knn_search_accuracy, param_grid, cv=5)"
   ]
  },
  {
   "cell_type": "code",
   "execution_count": 156,
   "id": "d70d85cd-da29-41a4-93a4-65d1010dc8c1",
   "metadata": {},
   "outputs": [
    {
     "data": {
      "text/html": [
       "<style>#sk-container-id-4 {color: black;}#sk-container-id-4 pre{padding: 0;}#sk-container-id-4 div.sk-toggleable {background-color: white;}#sk-container-id-4 label.sk-toggleable__label {cursor: pointer;display: block;width: 100%;margin-bottom: 0;padding: 0.3em;box-sizing: border-box;text-align: center;}#sk-container-id-4 label.sk-toggleable__label-arrow:before {content: \"▸\";float: left;margin-right: 0.25em;color: #696969;}#sk-container-id-4 label.sk-toggleable__label-arrow:hover:before {color: black;}#sk-container-id-4 div.sk-estimator:hover label.sk-toggleable__label-arrow:before {color: black;}#sk-container-id-4 div.sk-toggleable__content {max-height: 0;max-width: 0;overflow: hidden;text-align: left;background-color: #f0f8ff;}#sk-container-id-4 div.sk-toggleable__content pre {margin: 0.2em;color: black;border-radius: 0.25em;background-color: #f0f8ff;}#sk-container-id-4 input.sk-toggleable__control:checked~div.sk-toggleable__content {max-height: 200px;max-width: 100%;overflow: auto;}#sk-container-id-4 input.sk-toggleable__control:checked~label.sk-toggleable__label-arrow:before {content: \"▾\";}#sk-container-id-4 div.sk-estimator input.sk-toggleable__control:checked~label.sk-toggleable__label {background-color: #d4ebff;}#sk-container-id-4 div.sk-label input.sk-toggleable__control:checked~label.sk-toggleable__label {background-color: #d4ebff;}#sk-container-id-4 input.sk-hidden--visually {border: 0;clip: rect(1px 1px 1px 1px);clip: rect(1px, 1px, 1px, 1px);height: 1px;margin: -1px;overflow: hidden;padding: 0;position: absolute;width: 1px;}#sk-container-id-4 div.sk-estimator {font-family: monospace;background-color: #f0f8ff;border: 1px dotted black;border-radius: 0.25em;box-sizing: border-box;margin-bottom: 0.5em;}#sk-container-id-4 div.sk-estimator:hover {background-color: #d4ebff;}#sk-container-id-4 div.sk-parallel-item::after {content: \"\";width: 100%;border-bottom: 1px solid gray;flex-grow: 1;}#sk-container-id-4 div.sk-label:hover label.sk-toggleable__label {background-color: #d4ebff;}#sk-container-id-4 div.sk-serial::before {content: \"\";position: absolute;border-left: 1px solid gray;box-sizing: border-box;top: 0;bottom: 0;left: 50%;z-index: 0;}#sk-container-id-4 div.sk-serial {display: flex;flex-direction: column;align-items: center;background-color: white;padding-right: 0.2em;padding-left: 0.2em;position: relative;}#sk-container-id-4 div.sk-item {position: relative;z-index: 1;}#sk-container-id-4 div.sk-parallel {display: flex;align-items: stretch;justify-content: center;background-color: white;position: relative;}#sk-container-id-4 div.sk-item::before, #sk-container-id-4 div.sk-parallel-item::before {content: \"\";position: absolute;border-left: 1px solid gray;box-sizing: border-box;top: 0;bottom: 0;left: 50%;z-index: -1;}#sk-container-id-4 div.sk-parallel-item {display: flex;flex-direction: column;z-index: 1;position: relative;background-color: white;}#sk-container-id-4 div.sk-parallel-item:first-child::after {align-self: flex-end;width: 50%;}#sk-container-id-4 div.sk-parallel-item:last-child::after {align-self: flex-start;width: 50%;}#sk-container-id-4 div.sk-parallel-item:only-child::after {width: 0;}#sk-container-id-4 div.sk-dashed-wrapped {border: 1px dashed gray;margin: 0 0.4em 0.5em 0.4em;box-sizing: border-box;padding-bottom: 0.4em;background-color: white;}#sk-container-id-4 div.sk-label label {font-family: monospace;font-weight: bold;display: inline-block;line-height: 1.2em;}#sk-container-id-4 div.sk-label-container {text-align: center;}#sk-container-id-4 div.sk-container {/* jupyter's `normalize.less` sets `[hidden] { display: none; }` but bootstrap.min.css set `[hidden] { display: none !important; }` so we also need the `!important` here to be able to override the default hidden behavior on the sphinx rendered scikit-learn.org. See: https://github.com/scikit-learn/scikit-learn/issues/21755 */display: inline-block !important;position: relative;}#sk-container-id-4 div.sk-text-repr-fallback {display: none;}</style><div id=\"sk-container-id-4\" class=\"sk-top-container\"><div class=\"sk-text-repr-fallback\"><pre>GridSearchCV(cv=5, estimator=KNeighborsClassifier(),\n",
       "             param_grid={&#x27;n_neighbors&#x27;: array([ 1,  2,  3,  4,  5,  6,  7,  8,  9, 10, 11, 12, 13, 14, 15, 16, 17,\n",
       "       18, 19, 20, 21, 22, 23, 24, 25, 26, 27, 28, 29, 30, 31, 32, 33, 34,\n",
       "       35, 36, 37, 38, 39, 40, 41, 42, 43, 44, 45, 46, 47, 48, 49, 50, 51,\n",
       "       52, 53, 54, 55, 56, 57, 58, 59, 60, 61, 62, 63, 64, 65, 66, 67, 68,\n",
       "       69, 70, 71, 72, 73, 74, 75, 76, 77, 78, 79, 80, 81, 82, 83, 84, 85,\n",
       "       86, 87, 88, 89, 90, 91, 92, 93, 94, 95, 96, 97, 98, 99])})</pre><b>In a Jupyter environment, please rerun this cell to show the HTML representation or trust the notebook. <br />On GitHub, the HTML representation is unable to render, please try loading this page with nbviewer.org.</b></div><div class=\"sk-container\" hidden><div class=\"sk-item sk-dashed-wrapped\"><div class=\"sk-label-container\"><div class=\"sk-label sk-toggleable\"><input class=\"sk-toggleable__control sk-hidden--visually\" id=\"sk-estimator-id-10\" type=\"checkbox\" ><label for=\"sk-estimator-id-10\" class=\"sk-toggleable__label sk-toggleable__label-arrow\">GridSearchCV</label><div class=\"sk-toggleable__content\"><pre>GridSearchCV(cv=5, estimator=KNeighborsClassifier(),\n",
       "             param_grid={&#x27;n_neighbors&#x27;: array([ 1,  2,  3,  4,  5,  6,  7,  8,  9, 10, 11, 12, 13, 14, 15, 16, 17,\n",
       "       18, 19, 20, 21, 22, 23, 24, 25, 26, 27, 28, 29, 30, 31, 32, 33, 34,\n",
       "       35, 36, 37, 38, 39, 40, 41, 42, 43, 44, 45, 46, 47, 48, 49, 50, 51,\n",
       "       52, 53, 54, 55, 56, 57, 58, 59, 60, 61, 62, 63, 64, 65, 66, 67, 68,\n",
       "       69, 70, 71, 72, 73, 74, 75, 76, 77, 78, 79, 80, 81, 82, 83, 84, 85,\n",
       "       86, 87, 88, 89, 90, 91, 92, 93, 94, 95, 96, 97, 98, 99])})</pre></div></div></div><div class=\"sk-parallel\"><div class=\"sk-parallel-item\"><div class=\"sk-item\"><div class=\"sk-label-container\"><div class=\"sk-label sk-toggleable\"><input class=\"sk-toggleable__control sk-hidden--visually\" id=\"sk-estimator-id-11\" type=\"checkbox\" ><label for=\"sk-estimator-id-11\" class=\"sk-toggleable__label sk-toggleable__label-arrow\">estimator: KNeighborsClassifier</label><div class=\"sk-toggleable__content\"><pre>KNeighborsClassifier()</pre></div></div></div><div class=\"sk-serial\"><div class=\"sk-item\"><div class=\"sk-estimator sk-toggleable\"><input class=\"sk-toggleable__control sk-hidden--visually\" id=\"sk-estimator-id-12\" type=\"checkbox\" ><label for=\"sk-estimator-id-12\" class=\"sk-toggleable__label sk-toggleable__label-arrow\">KNeighborsClassifier</label><div class=\"sk-toggleable__content\"><pre>KNeighborsClassifier()</pre></div></div></div></div></div></div></div></div></div></div>"
      ],
      "text/plain": [
       "GridSearchCV(cv=5, estimator=KNeighborsClassifier(),\n",
       "             param_grid={'n_neighbors': array([ 1,  2,  3,  4,  5,  6,  7,  8,  9, 10, 11, 12, 13, 14, 15, 16, 17,\n",
       "       18, 19, 20, 21, 22, 23, 24, 25, 26, 27, 28, 29, 30, 31, 32, 33, 34,\n",
       "       35, 36, 37, 38, 39, 40, 41, 42, 43, 44, 45, 46, 47, 48, 49, 50, 51,\n",
       "       52, 53, 54, 55, 56, 57, 58, 59, 60, 61, 62, 63, 64, 65, 66, 67, 68,\n",
       "       69, 70, 71, 72, 73, 74, 75, 76, 77, 78, 79, 80, 81, 82, 83, 84, 85,\n",
       "       86, 87, 88, 89, 90, 91, 92, 93, 94, 95, 96, 97, 98, 99])})"
      ]
     },
     "execution_count": 156,
     "metadata": {},
     "output_type": "execute_result"
    }
   ],
   "source": [
    "# fit kNN model for each hyperparameter\n",
    "knn_gscv.fit(X_train, y_train)"
   ]
  },
  {
   "cell_type": "code",
   "execution_count": 157,
   "id": "868aad89-a934-4f93-9b19-f6ed463aa415",
   "metadata": {},
   "outputs": [
    {
     "data": {
      "text/plain": [
       "{'n_neighbors': 10}"
      ]
     },
     "execution_count": 157,
     "metadata": {},
     "output_type": "execute_result"
    }
   ],
   "source": [
    "# check optimal n_neighbor value\n",
    "knn_gscv.best_params_"
   ]
  },
  {
   "cell_type": "code",
   "execution_count": 166,
   "id": "9a400657-fa2d-402f-a906-b221aa5637ab",
   "metadata": {},
   "outputs": [],
   "source": [
    "# import results libraries\n",
    "from sklearn.metrics import classification_report"
   ]
  },
  {
   "cell_type": "code",
   "execution_count": 167,
   "id": "8380d16b-e5b5-4e25-90b3-1e1e8eb43f4d",
   "metadata": {},
   "outputs": [
    {
     "name": "stdout",
     "output_type": "stream",
     "text": [
      "-kNN Test Data Peformance\n",
      "*******************\n",
      "              precision    recall  f1-score   support\n",
      "\n",
      "       False       0.74      0.97      0.84        60\n",
      "        True       0.75      0.23      0.35        26\n",
      "\n",
      "    accuracy                           0.74        86\n",
      "   macro avg       0.75      0.60      0.60        86\n",
      "weighted avg       0.75      0.74      0.69        86\n",
      "\n",
      "-kNN Train Data Peformance\n",
      "********************\n",
      "              precision    recall  f1-score   support\n",
      "\n",
      "       False       0.75      0.99      0.85       141\n",
      "        True       0.87      0.22      0.35        59\n",
      "\n",
      "    accuracy                           0.76       200\n",
      "   macro avg       0.81      0.60      0.60       200\n",
      "weighted avg       0.79      0.76      0.70       200\n",
      "\n"
     ]
    }
   ],
   "source": [
    "# results\n",
    "best_knn = knn_gscv.best_estimator_\n",
    "\n",
    "# print results for kNN test and train data sets\n",
    "print(f\"-kNN Test Data Peformance\\n*******************\\n{classification_report(y_test, best_knn.predict(X_test))}\")\n",
    "print(f\"-kNN Train Data Peformance\\n********************\\n{classification_report(y_train, best_knn.predict(X_train))}\")"
   ]
  },
  {
   "cell_type": "markdown",
   "id": "373245dc-0f78-47f2-b45a-56be15b50d78",
   "metadata": {},
   "source": [
    "### Decision Tree & Results"
   ]
  },
  {
   "cell_type": "code",
   "execution_count": 160,
   "id": "f8bc237d-a4e5-4cac-b916-36a63a7bab11",
   "metadata": {},
   "outputs": [],
   "source": [
    "# split into train & test \n",
    "X_train, X_test, y_train, y_test = train_test_split(X, y, test_size=0.3, stratify=y, random_state=1)"
   ]
  },
  {
   "cell_type": "code",
   "execution_count": 161,
   "id": "5041485f-a632-478c-b3b8-a75c639f9181",
   "metadata": {},
   "outputs": [
    {
     "data": {
      "text/plain": [
       "[Text(0.693334829443447, 0.96875, 'x[25] <= 0.5\\ngini = 0.416\\nsamples = 200\\nvalue = [141, 59]'),\n",
       " Text(0.5398713345302214, 0.90625, 'x[8] <= 0.5\\ngini = 0.34\\nsamples = 161\\nvalue = [126, 35]'),\n",
       " Text(0.5207211250748055, 0.84375, 'x[21] <= 0.5\\ngini = 0.375\\nsamples = 140\\nvalue = [105, 35]'),\n",
       " Text(0.40529622980251345, 0.78125, 'x[1] <= 0.5\\ngini = 0.349\\nsamples = 129\\nvalue = [100, 29]'),\n",
       " Text(0.27019748653500897, 0.71875, 'x[0] <= 1.5\\ngini = 0.337\\nsamples = 126\\nvalue = [99, 27]'),\n",
       " Text(0.05745062836624776, 0.65625, 'x[2] <= 0.5\\ngini = 0.198\\nsamples = 36\\nvalue = [32, 4]'),\n",
       " Text(0.038300418910831836, 0.59375, 'gini = 0.0\\nsamples = 18\\nvalue = [18, 0]'),\n",
       " Text(0.07660083782166367, 0.59375, 'x[28] <= 0.5\\ngini = 0.346\\nsamples = 18\\nvalue = [14, 4]'),\n",
       " Text(0.038300418910831836, 0.53125, 'x[5] <= 0.5\\ngini = 0.198\\nsamples = 9\\nvalue = [8, 1]'),\n",
       " Text(0.019150209455415918, 0.46875, 'gini = 0.0\\nsamples = 7\\nvalue = [7, 0]'),\n",
       " Text(0.05745062836624776, 0.46875, 'gini = 0.5\\nsamples = 2\\nvalue = [1, 1]'),\n",
       " Text(0.11490125673249552, 0.53125, 'x[14] <= 0.5\\ngini = 0.444\\nsamples = 9\\nvalue = [6, 3]'),\n",
       " Text(0.09575104727707959, 0.46875, 'x[11] <= 0.5\\ngini = 0.375\\nsamples = 8\\nvalue = [6, 2]'),\n",
       " Text(0.07660083782166367, 0.40625, 'x[32] <= 0.5\\ngini = 0.444\\nsamples = 6\\nvalue = [4, 2]'),\n",
       " Text(0.05745062836624776, 0.34375, 'x[26] <= 0.5\\ngini = 0.32\\nsamples = 5\\nvalue = [4, 1]'),\n",
       " Text(0.038300418910831836, 0.28125, 'gini = 0.0\\nsamples = 4\\nvalue = [4, 0]'),\n",
       " Text(0.07660083782166367, 0.28125, 'gini = 0.0\\nsamples = 1\\nvalue = [0, 1]'),\n",
       " Text(0.09575104727707959, 0.34375, 'gini = 0.0\\nsamples = 1\\nvalue = [0, 1]'),\n",
       " Text(0.11490125673249552, 0.40625, 'gini = 0.0\\nsamples = 2\\nvalue = [2, 0]'),\n",
       " Text(0.13405146618791142, 0.46875, 'gini = 0.0\\nsamples = 1\\nvalue = [0, 1]'),\n",
       " Text(0.4829443447037702, 0.65625, 'x[13] <= 0.5\\ngini = 0.38\\nsamples = 90\\nvalue = [67, 23]'),\n",
       " Text(0.41053261520047873, 0.59375, 'x[11] <= 0.5\\ngini = 0.363\\nsamples = 84\\nvalue = [64, 20]'),\n",
       " Text(0.3231597845601436, 0.53125, 'x[27] <= 0.5\\ngini = 0.32\\nsamples = 65\\nvalue = [52, 13]'),\n",
       " Text(0.26331538001196886, 0.46875, 'x[6] <= 0.5\\ngini = 0.285\\nsamples = 58\\nvalue = [48, 10]'),\n",
       " Text(0.20107719928186715, 0.40625, 'x[32] <= 0.5\\ngini = 0.236\\nsamples = 44\\nvalue = [38, 6]'),\n",
       " Text(0.18192698982645122, 0.34375, 'x[12] <= 0.5\\ngini = 0.284\\nsamples = 35\\nvalue = [29, 6]'),\n",
       " Text(0.11490125673249552, 0.28125, 'x[9] <= 0.5\\ngini = 0.211\\nsamples = 25\\nvalue = [22, 3]'),\n",
       " Text(0.038300418910831836, 0.21875, 'x[28] <= 0.5\\ngini = 0.1\\nsamples = 19\\nvalue = [18, 1]'),\n",
       " Text(0.019150209455415918, 0.15625, 'gini = 0.0\\nsamples = 15\\nvalue = [15, 0]'),\n",
       " Text(0.05745062836624776, 0.15625, 'x[2] <= 0.5\\ngini = 0.375\\nsamples = 4\\nvalue = [3, 1]'),\n",
       " Text(0.038300418910831836, 0.09375, 'gini = 0.0\\nsamples = 1\\nvalue = [1, 0]'),\n",
       " Text(0.07660083782166367, 0.09375, 'x[26] <= 0.5\\ngini = 0.444\\nsamples = 3\\nvalue = [2, 1]'),\n",
       " Text(0.05745062836624776, 0.03125, 'gini = 0.5\\nsamples = 2\\nvalue = [1, 1]'),\n",
       " Text(0.09575104727707959, 0.03125, 'gini = 0.0\\nsamples = 1\\nvalue = [1, 0]'),\n",
       " Text(0.19150209455415917, 0.21875, 'x[26] <= 0.5\\ngini = 0.444\\nsamples = 6\\nvalue = [4, 2]'),\n",
       " Text(0.17235188509874327, 0.15625, 'x[5] <= 0.5\\ngini = 0.444\\nsamples = 3\\nvalue = [1, 2]'),\n",
       " Text(0.15320167564332735, 0.09375, 'x[28] <= 0.5\\ngini = 0.5\\nsamples = 2\\nvalue = [1, 1]'),\n",
       " Text(0.13405146618791142, 0.03125, 'gini = 0.0\\nsamples = 1\\nvalue = [0, 1]'),\n",
       " Text(0.17235188509874327, 0.03125, 'gini = 0.0\\nsamples = 1\\nvalue = [1, 0]'),\n",
       " Text(0.19150209455415917, 0.09375, 'gini = 0.0\\nsamples = 1\\nvalue = [0, 1]'),\n",
       " Text(0.2106523040095751, 0.15625, 'gini = 0.0\\nsamples = 3\\nvalue = [3, 0]'),\n",
       " Text(0.24895272292040693, 0.28125, 'x[2] <= 0.5\\ngini = 0.42\\nsamples = 10\\nvalue = [7, 3]'),\n",
       " Text(0.22980251346499103, 0.21875, 'gini = 0.0\\nsamples = 1\\nvalue = [0, 1]'),\n",
       " Text(0.26810293237582283, 0.21875, 'x[31] <= 0.5\\ngini = 0.346\\nsamples = 9\\nvalue = [7, 2]'),\n",
       " Text(0.24895272292040693, 0.15625, 'x[3] <= 0.5\\ngini = 0.245\\nsamples = 7\\nvalue = [6, 1]'),\n",
       " Text(0.22980251346499103, 0.09375, 'gini = 0.0\\nsamples = 4\\nvalue = [4, 0]'),\n",
       " Text(0.26810293237582283, 0.09375, 'x[28] <= 0.5\\ngini = 0.444\\nsamples = 3\\nvalue = [2, 1]'),\n",
       " Text(0.24895272292040693, 0.03125, 'gini = 0.5\\nsamples = 2\\nvalue = [1, 1]'),\n",
       " Text(0.2872531418312388, 0.03125, 'gini = 0.0\\nsamples = 1\\nvalue = [1, 0]'),\n",
       " Text(0.2872531418312388, 0.15625, 'gini = 0.5\\nsamples = 2\\nvalue = [1, 1]'),\n",
       " Text(0.22022740873728305, 0.34375, 'gini = 0.0\\nsamples = 9\\nvalue = [9, 0]'),\n",
       " Text(0.3255535607420706, 0.40625, 'x[9] <= 0.5\\ngini = 0.408\\nsamples = 14\\nvalue = [10, 4]'),\n",
       " Text(0.3064033512866547, 0.34375, 'x[26] <= 0.5\\ngini = 0.5\\nsamples = 8\\nvalue = [4, 4]'),\n",
       " Text(0.2872531418312388, 0.28125, 'gini = 0.0\\nsamples = 3\\nvalue = [3, 0]'),\n",
       " Text(0.3255535607420706, 0.28125, 'x[10] <= 0.5\\ngini = 0.32\\nsamples = 5\\nvalue = [1, 4]'),\n",
       " Text(0.3064033512866547, 0.21875, 'gini = 0.0\\nsamples = 3\\nvalue = [0, 3]'),\n",
       " Text(0.34470377019748655, 0.21875, 'x[29] <= 0.5\\ngini = 0.5\\nsamples = 2\\nvalue = [1, 1]'),\n",
       " Text(0.3255535607420706, 0.15625, 'gini = 0.0\\nsamples = 1\\nvalue = [0, 1]'),\n",
       " Text(0.36385397965290245, 0.15625, 'gini = 0.0\\nsamples = 1\\nvalue = [1, 0]'),\n",
       " Text(0.34470377019748655, 0.34375, 'gini = 0.0\\nsamples = 6\\nvalue = [6, 0]'),\n",
       " Text(0.38300418910831835, 0.46875, 'x[26] <= 0.5\\ngini = 0.49\\nsamples = 7\\nvalue = [4, 3]'),\n",
       " Text(0.36385397965290245, 0.40625, 'gini = 0.0\\nsamples = 3\\nvalue = [3, 0]'),\n",
       " Text(0.4021543985637343, 0.40625, 'x[2] <= 0.5\\ngini = 0.375\\nsamples = 4\\nvalue = [1, 3]'),\n",
       " Text(0.38300418910831835, 0.34375, 'gini = 0.0\\nsamples = 2\\nvalue = [0, 2]'),\n",
       " Text(0.4213046080191502, 0.34375, 'gini = 0.5\\nsamples = 2\\nvalue = [1, 1]'),\n",
       " Text(0.49790544584081387, 0.53125, 'x[32] <= 0.5\\ngini = 0.465\\nsamples = 19\\nvalue = [12, 7]'),\n",
       " Text(0.45960502692998206, 0.46875, 'x[2] <= 0.5\\ngini = 0.408\\nsamples = 14\\nvalue = [10, 4]'),\n",
       " Text(0.4404548174745661, 0.40625, 'gini = 0.0\\nsamples = 5\\nvalue = [5, 0]'),\n",
       " Text(0.47875523638539796, 0.40625, 'x[31] <= 0.5\\ngini = 0.494\\nsamples = 9\\nvalue = [5, 4]'),\n",
       " Text(0.45960502692998206, 0.34375, 'x[4] <= 0.5\\ngini = 0.408\\nsamples = 7\\nvalue = [5, 2]'),\n",
       " Text(0.4404548174745661, 0.28125, 'gini = 0.0\\nsamples = 4\\nvalue = [4, 0]'),\n",
       " Text(0.47875523638539796, 0.28125, 'x[28] <= 0.5\\ngini = 0.444\\nsamples = 3\\nvalue = [1, 2]'),\n",
       " Text(0.45960502692998206, 0.21875, 'gini = 0.0\\nsamples = 1\\nvalue = [0, 1]'),\n",
       " Text(0.49790544584081387, 0.21875, 'gini = 0.5\\nsamples = 2\\nvalue = [1, 1]'),\n",
       " Text(0.49790544584081387, 0.34375, 'gini = 0.0\\nsamples = 2\\nvalue = [0, 2]'),\n",
       " Text(0.5362058647516457, 0.46875, 'x[4] <= 0.5\\ngini = 0.48\\nsamples = 5\\nvalue = [2, 3]'),\n",
       " Text(0.5170556552962298, 0.40625, 'gini = 0.0\\nsamples = 2\\nvalue = [0, 2]'),\n",
       " Text(0.5553560742070617, 0.40625, 'x[28] <= 0.5\\ngini = 0.444\\nsamples = 3\\nvalue = [2, 1]'),\n",
       " Text(0.5362058647516457, 0.34375, 'gini = 0.0\\nsamples = 2\\nvalue = [2, 0]'),\n",
       " Text(0.5745062836624776, 0.34375, 'gini = 0.0\\nsamples = 1\\nvalue = [0, 1]'),\n",
       " Text(0.5553560742070617, 0.59375, 'x[28] <= 0.5\\ngini = 0.5\\nsamples = 6\\nvalue = [3, 3]'),\n",
       " Text(0.5362058647516457, 0.53125, 'gini = 0.0\\nsamples = 3\\nvalue = [3, 0]'),\n",
       " Text(0.5745062836624776, 0.53125, 'gini = 0.0\\nsamples = 3\\nvalue = [0, 3]'),\n",
       " Text(0.5403949730700179, 0.71875, 'x[26] <= 0.5\\ngini = 0.444\\nsamples = 3\\nvalue = [1, 2]'),\n",
       " Text(0.521244763614602, 0.65625, 'gini = 0.0\\nsamples = 2\\nvalue = [0, 2]'),\n",
       " Text(0.5595451825254338, 0.65625, 'gini = 0.0\\nsamples = 1\\nvalue = [1, 0]'),\n",
       " Text(0.6361460203470976, 0.78125, 'x[12] <= 0.5\\ngini = 0.496\\nsamples = 11\\nvalue = [5, 6]'),\n",
       " Text(0.6169958108916817, 0.71875, 'x[26] <= 0.5\\ngini = 0.408\\nsamples = 7\\nvalue = [5, 2]'),\n",
       " Text(0.5978456014362658, 0.65625, 'gini = 0.0\\nsamples = 1\\nvalue = [0, 1]'),\n",
       " Text(0.6361460203470976, 0.65625, 'x[31] <= 0.5\\ngini = 0.278\\nsamples = 6\\nvalue = [5, 1]'),\n",
       " Text(0.6169958108916817, 0.59375, 'gini = 0.0\\nsamples = 4\\nvalue = [4, 0]'),\n",
       " Text(0.6552962298025135, 0.59375, 'x[3] <= 0.5\\ngini = 0.5\\nsamples = 2\\nvalue = [1, 1]'),\n",
       " Text(0.6361460203470976, 0.53125, 'gini = 0.0\\nsamples = 1\\nvalue = [0, 1]'),\n",
       " Text(0.6744464392579294, 0.53125, 'gini = 0.0\\nsamples = 1\\nvalue = [1, 0]'),\n",
       " Text(0.6552962298025135, 0.71875, 'gini = 0.0\\nsamples = 4\\nvalue = [0, 4]'),\n",
       " Text(0.5590215439856373, 0.84375, 'gini = 0.0\\nsamples = 21\\nvalue = [21, 0]'),\n",
       " Text(0.8467983243566727, 0.90625, 'x[26] <= 0.5\\ngini = 0.473\\nsamples = 39\\nvalue = [15, 24]'),\n",
       " Text(0.7510472770795931, 0.84375, 'x[0] <= 2.5\\ngini = 0.308\\nsamples = 21\\nvalue = [4, 17]'),\n",
       " Text(0.7127468581687613, 0.78125, 'x[5] <= 0.5\\ngini = 0.469\\nsamples = 8\\nvalue = [3, 5]'),\n",
       " Text(0.6935966487133453, 0.71875, 'gini = 0.0\\nsamples = 4\\nvalue = [0, 4]'),\n",
       " Text(0.7318970676241772, 0.71875, 'x[22] <= 0.5\\ngini = 0.375\\nsamples = 4\\nvalue = [3, 1]'),\n",
       " Text(0.7127468581687613, 0.65625, 'gini = 0.0\\nsamples = 3\\nvalue = [3, 0]'),\n",
       " Text(0.7510472770795931, 0.65625, 'gini = 0.0\\nsamples = 1\\nvalue = [0, 1]'),\n",
       " Text(0.7893476959904249, 0.78125, 'x[21] <= 0.5\\ngini = 0.142\\nsamples = 13\\nvalue = [1, 12]'),\n",
       " Text(0.770197486535009, 0.71875, 'gini = 0.0\\nsamples = 11\\nvalue = [0, 11]'),\n",
       " Text(0.8084979054458408, 0.71875, 'x[3] <= 0.5\\ngini = 0.5\\nsamples = 2\\nvalue = [1, 1]'),\n",
       " Text(0.7893476959904249, 0.65625, 'gini = 0.0\\nsamples = 1\\nvalue = [1, 0]'),\n",
       " Text(0.8276481149012568, 0.65625, 'gini = 0.0\\nsamples = 1\\nvalue = [0, 1]'),\n",
       " Text(0.9425493716337523, 0.84375, 'x[13] <= 0.5\\ngini = 0.475\\nsamples = 18\\nvalue = [11, 7]'),\n",
       " Text(0.9233991621783363, 0.78125, 'x[0] <= 2.5\\ngini = 0.498\\nsamples = 15\\nvalue = [8, 7]'),\n",
       " Text(0.8850987432675045, 0.71875, 'x[23] <= 0.5\\ngini = 0.42\\nsamples = 10\\nvalue = [7, 3]'),\n",
       " Text(0.8659485338120886, 0.65625, 'x[31] <= 0.5\\ngini = 0.346\\nsamples = 9\\nvalue = [7, 2]'),\n",
       " Text(0.8467983243566727, 0.59375, 'gini = 0.0\\nsamples = 5\\nvalue = [5, 0]'),\n",
       " Text(0.8850987432675045, 0.59375, 'x[32] <= 0.5\\ngini = 0.5\\nsamples = 4\\nvalue = [2, 2]'),\n",
       " Text(0.8659485338120886, 0.53125, 'gini = 0.0\\nsamples = 2\\nvalue = [2, 0]'),\n",
       " Text(0.9042489527229204, 0.53125, 'gini = 0.0\\nsamples = 2\\nvalue = [0, 2]'),\n",
       " Text(0.9042489527229204, 0.65625, 'gini = 0.0\\nsamples = 1\\nvalue = [0, 1]'),\n",
       " Text(0.9616995810891682, 0.71875, 'x[19] <= 0.5\\ngini = 0.32\\nsamples = 5\\nvalue = [1, 4]'),\n",
       " Text(0.9425493716337523, 0.65625, 'gini = 0.0\\nsamples = 4\\nvalue = [0, 4]'),\n",
       " Text(0.9808497905445841, 0.65625, 'gini = 0.0\\nsamples = 1\\nvalue = [1, 0]'),\n",
       " Text(0.9616995810891682, 0.78125, 'gini = 0.0\\nsamples = 3\\nvalue = [3, 0]')]"
      ]
     },
     "execution_count": 161,
     "metadata": {},
     "output_type": "execute_result"
    },
    {
     "data": {
      "image/png": "[encoded data removed]",
      "text/plain": [
       "<Figure size 640x480 with 1 Axes>"
      ]
     },
     "metadata": {},
     "output_type": "display_data"
    }
   ],
   "source": [
    "from sklearn.tree import DecisionTreeClassifier\n",
    "\n",
    "# decision tree model\n",
    "model = DecisionTreeClassifier(random_state=1).fit(X_train, y_train)\n",
    "\n",
    "# visual tree\n",
    "from sklearn import tree\n",
    "tree.plot_tree(model)"
   ]
  },
  {
   "cell_type": "code",
   "execution_count": 162,
   "id": "d91fde66-dac3-42e9-b063-e81a8ae3ab0a",
   "metadata": {},
   "outputs": [
    {
     "name": "stdout",
     "output_type": "stream",
     "text": [
      "-Decision Tree Test Data Peformance\n",
      "*******************\n",
      "              precision    recall  f1-score   support\n",
      "\n",
      "       False       0.71      0.75      0.73        60\n",
      "        True       0.35      0.31      0.33        26\n",
      "\n",
      "    accuracy                           0.62        86\n",
      "   macro avg       0.53      0.53      0.53        86\n",
      "weighted avg       0.60      0.62      0.61        86\n",
      "\n",
      "-Decision Tree Train Data Peformance\n",
      "********************\n",
      "              precision    recall  f1-score   support\n",
      "\n",
      "       False       0.96      1.00      0.98       141\n",
      "        True       1.00      0.90      0.95        59\n",
      "\n",
      "    accuracy                           0.97       200\n",
      "   macro avg       0.98      0.95      0.96       200\n",
      "weighted avg       0.97      0.97      0.97       200\n",
      "\n"
     ]
    }
   ],
   "source": [
    "# print results for Decision Tree Classifier test and train data sets\n",
    "print(f\"-Decision Tree Test Data Peformance\\n*******************\\n{classification_report(y_test, model.predict(X_test))}\")\n",
    "print(f\"-Decision Tree Train Data Peformance\\n********************\\n{classification_report(y_train, model.predict(X_train))}\")"
   ]
  },
  {
   "cell_type": "markdown",
   "id": "8140590e-a388-46bb-8c06-1618c0d8f06b",
   "metadata": {},
   "source": [
    "### Logistic Regression & Results"
   ]
  },
  {
   "cell_type": "code",
   "execution_count": 163,
   "id": "72e7344e-e9be-4554-aad4-5a5501610449",
   "metadata": {},
   "outputs": [],
   "source": [
    "# split into train & test \n",
    "X_train, X_test, y_train, y_test = train_test_split(X, y, test_size=0.3, stratify=y, random_state=1)"
   ]
  },
  {
   "cell_type": "code",
   "execution_count": 164,
   "id": "dc0dc3c7-3f34-417a-b6e6-ffdfa34e3f88",
   "metadata": {},
   "outputs": [],
   "source": [
    "from sklearn.linear_model import LogisticRegression\n",
    "\n",
    "# logistic regression model fit\n",
    "model_lr = LogisticRegression(random_state=1, max_iter=1000).fit(X_train, y_train)"
   ]
  },
  {
   "cell_type": "code",
   "execution_count": 165,
   "id": "562038d8-f440-44ca-944b-36f2b3f566fb",
   "metadata": {},
   "outputs": [
    {
     "name": "stdout",
     "output_type": "stream",
     "text": [
      "-Logistic Regression Test Data Peformance\n",
      "*******************\n",
      "              precision    recall  f1-score   support\n",
      "\n",
      "       False       0.75      0.90      0.82        60\n",
      "        True       0.57      0.31      0.40        26\n",
      "\n",
      "    accuracy                           0.72        86\n",
      "   macro avg       0.66      0.60      0.61        86\n",
      "weighted avg       0.70      0.72      0.69        86\n",
      "\n",
      "-Logistic Regression Train Data Peformance\n",
      "********************\n",
      "              precision    recall  f1-score   support\n",
      "\n",
      "       False       0.78      0.91      0.84       141\n",
      "        True       0.63      0.37      0.47        59\n",
      "\n",
      "    accuracy                           0.75       200\n",
      "   macro avg       0.70      0.64      0.65       200\n",
      "weighted avg       0.73      0.75      0.73       200\n",
      "\n"
     ]
    }
   ],
   "source": [
    "# print results for Logistic Regression test and train data sets\n",
    "print(f\"-Logistic Regression Test Data Peformance\\n*******************\\n{classification_report(y_test, model_lr.predict(X_test))}\")\n",
    "print(f\"-Logistic Regression Train Data Peformance\\n********************\\n{classification_report(y_train, model_lr.predict(X_train))}\")"
   ]
  }
 ],
 "metadata": {
  "kernelspec": {
   "display_name": "Python 3 (ipykernel)",
   "language": "python",
   "name": "python3"
  },
  "language_info": {
   "codemirror_mode": {
    "name": "ipython",
    "version": 3
   },
   "file_extension": ".py",
   "mimetype": "text/x-python",
   "name": "python",
   "nbconvert_exporter": "python",
   "pygments_lexer": "ipython3",
   "version": "3.11.1"
  }
 },
 "nbformat": 4,
 "nbformat_minor": 5
}
